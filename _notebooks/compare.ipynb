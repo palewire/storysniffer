{
 "cells": [
  {
   "cell_type": "markdown",
   "id": "baf0f252-b466-4f6e-b72b-ff442d6b8039",
   "metadata": {},
   "source": [
    "# Compare\n",
    "\n",
    "See how our rules-based sniffer compares to the machine learning model."
   ]
  },
  {
   "cell_type": "code",
   "execution_count": 4,
   "id": "3d1dd845-18b0-45ed-a13c-fec0fd8bd0db",
   "metadata": {},
   "outputs": [],
   "source": [
    "import pathlib\n",
    "import pandas as pd"
   ]
  },
  {
   "cell_type": "code",
   "execution_count": 5,
   "id": "9f584a36-9c36-4210-8a50-98c98ee3367d",
   "metadata": {},
   "outputs": [],
   "source": [
    "input_path = pathlib.Path(\"\") / \"input\""
   ]
  },
  {
   "cell_type": "code",
   "execution_count": 6,
   "id": "b6c21d25-2fc1-4047-ab99-b2c73ec85f75",
   "metadata": {},
   "outputs": [],
   "source": [
    "labeled_df = pd.read_csv(input_path / \"labeled.csv\", dtype={\"is_story\": bool})"
   ]
  },
  {
   "cell_type": "markdown",
   "id": "57bfa284-7675-4a2b-93a3-47c214da75e0",
   "metadata": {},
   "source": [
    "The legacy code"
   ]
  },
  {
   "cell_type": "code",
   "execution_count": 8,
   "id": "e14eaed7-5336-4bb6-ace7-66c0fd3dae70",
   "metadata": {},
   "outputs": [],
   "source": [
    "\"\"\"Inspect a URL and estimate if it links to news story.\"\"\"\n",
    "import os\n",
    "import re\n",
    "from urllib.parse import urlparse\n",
    "\n",
    "import tldextract\n",
    "\n",
    "# A regular expression that can validate URLs\n",
    "# Drawn from Django source code:\n",
    "# https://github.com/django/django/blob/master/django/core/validators.py\n",
    "URL_REGEX = re.compile(\n",
    "    r\"^(?:[a-z0-9\\.\\-]*)://\"  # scheme is validated separately\n",
    "    r\"(?:(?:[A-Z0-9](?:[A-Z0-9-]{0,61}[A-Z0-9])?\\.)+(?:[A-Z]{2,6}\\.?|\\\n",
    "[A-Z0-9-]{2,}(?<!-)\\.?)|\"  # domain...\n",
    "    r\"localhost|\"  # localhost...\n",
    "    r\"\\d{1,3}\\.\\d{1,3}\\.\\d{1,3}\\.\\d{1,3}|\"  # ...or ipv4\n",
    "    r\"\\[?[A-F0-9]*:[A-F0-9:]+\\]?)\"  # ...or ipv6\n",
    "    r\"(?::\\d+)?\"  # optional port\n",
    "    r\"(?:/?|[/?]\\S+)$\",\n",
    "    re.IGNORECASE,\n",
    ")\n",
    "\n",
    "# A list of URL parts that probably won't link to new stories\n",
    "DOMAIN_BLACKLIST = (\n",
    "    \"google\",\n",
    "    \"twitter\",\n",
    "    \"facebook\",\n",
    "    \"doubleclick\",\n",
    ")\n",
    "\n",
    "SUBDOMAIN_BLACKLIST = (\n",
    "    \"careers\",\n",
    "    \"mail\",\n",
    "    \"account\",\n",
    ")\n",
    "\n",
    "TLD_BLACKLIST = (\"xxx\",)\n",
    "\n",
    "PATH_BLACKLIST = (\n",
    "    \"\",\n",
    "    \"/\",\n",
    ")\n",
    "\n",
    "EXT_BLACKLIST = (\n",
    "    \".js\",\n",
    "    \".css\",\n",
    "    \".jpg\",\n",
    "    \".gif\",\n",
    "    \".png\",\n",
    ")\n",
    "\n",
    "# A list of URL parts we think will link to stories\n",
    "PATHPART_WHITELIST = [\n",
    "    \"story\",\n",
    "    \"article\",\n",
    "    \"feature\",\n",
    "    \"featured\",\n",
    "    \"blog\",\n",
    "    \"interactive\",\n",
    "    \"graphic\",\n",
    "    \"video\",\n",
    "    \"post\",\n",
    "]\n",
    "\n",
    "\n",
    "def guess(url: str) -> bool:\n",
    "    \"\"\"Return a boolean estimating the likelihood that the provided URL links to a news story.\"\"\"\n",
    "    # Throw an error if the URL doesn't match acceptable patterns\n",
    "    if not URL_REGEX.search(url):\n",
    "        return False\n",
    "\n",
    "    # Parse the url into parts so we can inspect them\n",
    "    urlparts = urlparse(url)\n",
    "    tldparts = tldextract.extract(url)\n",
    "\n",
    "    # Kill anything in one of our blacklists\n",
    "    if urlparts.path in PATH_BLACKLIST:\n",
    "        return False\n",
    "\n",
    "    if tldparts.domain in DOMAIN_BLACKLIST:\n",
    "        return False\n",
    "\n",
    "    if tldparts.subdomain in SUBDOMAIN_BLACKLIST:\n",
    "        return False\n",
    "\n",
    "    if tldparts.suffix in TLD_BLACKLIST:\n",
    "        return False\n",
    "\n",
    "    if os.path.splitext(urlparts.path)[1] in EXT_BLACKLIST:\n",
    "        return False\n",
    "\n",
    "    # We don't like things with very few slashes in the urls URL paths\n",
    "    pathparts = [x for x in urlparts.path.split(\"/\") if x.strip()]\n",
    "    if len(pathparts) < 2:\n",
    "        return False\n",
    "\n",
    "    # Bless anything that matches one of our patterns\n",
    "    # ... like lots of dashes or underscores in a path part\n",
    "    if max(p.count(\"-\") for p in pathparts) > 3:\n",
    "        return True\n",
    "\n",
    "    if max(p.count(\"_\") for p in pathparts) > 3:\n",
    "        return True\n",
    "\n",
    "    if any(p in PATHPART_WHITELIST for p in pathparts):\n",
    "        return True\n",
    "\n",
    "    # If you've made it this far without clicking, we give up\n",
    "    return False"
   ]
  },
  {
   "cell_type": "code",
   "execution_count": 9,
   "id": "55e7196d-f54c-4570-93fb-3417cf041b06",
   "metadata": {},
   "outputs": [],
   "source": [
    "labeled_df['prediction'] = labeled_df.apply(lambda x: guess(x['url']), axis=1)"
   ]
  },
  {
   "cell_type": "code",
   "execution_count": 10,
   "id": "300b68e5-5449-43c4-b9d7-4347f4bbe03f",
   "metadata": {},
   "outputs": [],
   "source": [
    "labeled_df['is_accurate'] = labeled_df.prediction == labeled_df.is_story"
   ]
  },
  {
   "cell_type": "code",
   "execution_count": 11,
   "id": "faa571f7-142c-4a9f-90c4-c4e755824299",
   "metadata": {},
   "outputs": [
    {
     "data": {
      "text/plain": [
       "True     0.776884\n",
       "False    0.223116\n",
       "Name: is_accurate, dtype: float64"
      ]
     },
     "execution_count": 11,
     "metadata": {},
     "output_type": "execute_result"
    }
   ],
   "source": [
    "labeled_df.is_accurate.value_counts(normalize=True)"
   ]
  }
 ],
 "metadata": {
  "kernelspec": {
   "display_name": "Python 3 (ipykernel)",
   "language": "python",
   "name": "python3"
  },
  "language_info": {
   "codemirror_mode": {
    "name": "ipython",
    "version": 3
   },
   "file_extension": ".py",
   "mimetype": "text/x-python",
   "name": "python",
   "nbconvert_exporter": "python",
   "pygments_lexer": "ipython3",
   "version": "3.9.2"
  }
 },
 "nbformat": 4,
 "nbformat_minor": 5
}
