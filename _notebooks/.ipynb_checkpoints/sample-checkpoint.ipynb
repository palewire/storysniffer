{
 "cells": [
  {
   "cell_type": "markdown",
   "id": "2c3e4f67-011b-495c-becb-26fbb239d96a",
   "metadata": {},
   "source": [
    "# Sample\n",
    "\n",
    "Pull a sample of hyperlinks from the [News Homepages](https://homepages.news) archive for training."
   ]
  },
  {
   "cell_type": "code",
   "execution_count": 16,
   "id": "8ae9c474-77c3-48bd-aab7-eedaac8805d8",
   "metadata": {},
   "outputs": [],
   "source": [
    "import pathlib\n",
    "import random\n",
    "import pandas as pd"
   ]
  },
  {
   "cell_type": "markdown",
   "id": "ce4afed4-753b-47b3-9066-f1409085fee3",
   "metadata": {},
   "source": [
    "Get all of the hyperlinks JSON files in the input directory"
   ]
  },
  {
   "cell_type": "code",
   "execution_count": 4,
   "id": "90b7ef65-a6d5-4679-a4b0-af48afd7e950",
   "metadata": {},
   "outputs": [],
   "source": [
    "input_path = pathlib.Path(\"\") / \"input\""
   ]
  },
  {
   "cell_type": "code",
   "execution_count": 7,
   "id": "27ccd40a-235c-4b8a-b1c0-c2b0d15143bf",
   "metadata": {},
   "outputs": [],
   "source": [
    "file_list = list(input_path.glob(\"**/*.json\"))"
   ]
  },
  {
   "cell_type": "markdown",
   "id": "07fde6cc-c642-4014-94b0-610b263a67f6",
   "metadata": {},
   "source": [
    "Get a sample of records from every file."
   ]
  },
  {
   "cell_type": "code",
   "execution_count": 53,
   "id": "ae815ce8-afb7-4dcf-8677-3d960de7526a",
   "metadata": {},
   "outputs": [],
   "source": [
    "def sample_urls(path, n=10):\n",
    "    \"\"\"Sample a random number of URLs from the provided file path.\"\"\"\n",
    "    # Read the file\n",
    "    df = pd.read_json(path)\n",
    "    # Clean up text\n",
    "    df['text'] = df.text.str.strip()\n",
    "    # Drop links without text\n",
    "    df = df[~(df.text == \"\")].copy()\n",
    "    # Tack on handle\n",
    "    df['handle'] = path.stem.split(\".\")[0]\n",
    "    # Drop duplicates\n",
    "    df.drop_duplicates(inplace=True)\n",
    "    # Get unique URL\n",
    "    return df.sample(n=n)"
   ]
  },
  {
   "cell_type": "code",
   "execution_count": 54,
   "id": "0819467d-e2fa-4646-a965-602bf1e498b2",
   "metadata": {},
   "outputs": [],
   "source": [
    "df_list = [sample_urls(f) for f in file_list]"
   ]
  },
  {
   "cell_type": "markdown",
   "id": "47a87e28-b411-4f35-b6bf-fbab36206515",
   "metadata": {},
   "source": [
    "Merge them all together."
   ]
  },
  {
   "cell_type": "code",
   "execution_count": 55,
   "id": "8711304e-e259-42cf-b0f9-8680a4467f36",
   "metadata": {},
   "outputs": [],
   "source": [
    "sample_df = pd.concat(df_list)"
   ]
  },
  {
   "cell_type": "code",
   "execution_count": 56,
   "id": "8ca8f1e0-ff7c-4ea2-9826-28faf3d793b3",
   "metadata": {},
   "outputs": [
    {
     "name": "stdout",
     "output_type": "stream",
     "text": [
      "<class 'pandas.core.frame.DataFrame'>\n",
      "Int64Index: 1340 entries, 602 to 100\n",
      "Data columns (total 3 columns):\n",
      " #   Column  Non-Null Count  Dtype \n",
      "---  ------  --------------  ----- \n",
      " 0   text    1340 non-null   object\n",
      " 1   url     1340 non-null   object\n",
      " 2   handle  1340 non-null   object\n",
      "dtypes: object(3)\n",
      "memory usage: 41.9+ KB\n"
     ]
    }
   ],
   "source": [
    "sample_df.info()"
   ]
  },
  {
   "cell_type": "code",
   "execution_count": 57,
   "id": "91e46907-4fb9-49c0-b1f1-15e7be28a681",
   "metadata": {},
   "outputs": [
    {
     "data": {
      "text/plain": [
       "harpers           10\n",
       "berkeleyside      10\n",
       "drudge            10\n",
       "flintbeat         10\n",
       "codaily           10\n",
       "                  ..\n",
       "bleacherreport    10\n",
       "buckscoherald     10\n",
       "discovermag       10\n",
       "coindesk          10\n",
       "gothamist         10\n",
       "Name: handle, Length: 134, dtype: int64"
      ]
     },
     "execution_count": 57,
     "metadata": {},
     "output_type": "execute_result"
    }
   ],
   "source": [
    "sample_df.handle.value_counts()"
   ]
  },
  {
   "cell_type": "code",
   "execution_count": 58,
   "id": "10444dda-61a9-4554-b27d-4f4274dbf709",
   "metadata": {},
   "outputs": [
    {
     "data": {
      "text/html": [
       "<div>\n",
       "<style scoped>\n",
       "    .dataframe tbody tr th:only-of-type {\n",
       "        vertical-align: middle;\n",
       "    }\n",
       "\n",
       "    .dataframe tbody tr th {\n",
       "        vertical-align: top;\n",
       "    }\n",
       "\n",
       "    .dataframe thead th {\n",
       "        text-align: right;\n",
       "    }\n",
       "</style>\n",
       "<table border=\"1\" class=\"dataframe\">\n",
       "  <thead>\n",
       "    <tr style=\"text-align: right;\">\n",
       "      <th></th>\n",
       "      <th>text</th>\n",
       "      <th>url</th>\n",
       "      <th>handle</th>\n",
       "    </tr>\n",
       "  </thead>\n",
       "  <tbody>\n",
       "    <tr>\n",
       "      <th>602</th>\n",
       "      <td>March 2012 Issue</td>\n",
       "      <td>https://harpers.org/archive/2012/03/</td>\n",
       "      <td>harpers</td>\n",
       "    </tr>\n",
       "    <tr>\n",
       "      <th>561</th>\n",
       "      <td>[Story]</td>\n",
       "      <td>story</td>\n",
       "      <td>harpers</td>\n",
       "    </tr>\n",
       "    <tr>\n",
       "      <th>16</th>\n",
       "      <td>Sections</td>\n",
       "      <td>/sections/</td>\n",
       "      <td>harpers</td>\n",
       "    </tr>\n",
       "    <tr>\n",
       "      <th>41</th>\n",
       "      <td>Subscribe Now</td>\n",
       "      <td>https://w1.buysub.com/servlet/OrdersGateway?cd...</td>\n",
       "      <td>harpers</td>\n",
       "    </tr>\n",
       "    <tr>\n",
       "      <th>36</th>\n",
       "      <td>The Fight to Choose</td>\n",
       "      <td>https://harpers.org/archive/2022/08/the-fight-...</td>\n",
       "      <td>harpers</td>\n",
       "    </tr>\n",
       "  </tbody>\n",
       "</table>\n",
       "</div>"
      ],
      "text/plain": [
       "                    text                                                url  \\\n",
       "602     March 2012 Issue               https://harpers.org/archive/2012/03/   \n",
       "561              [Story]                                              story   \n",
       "16              Sections                                         /sections/   \n",
       "41         Subscribe Now  https://w1.buysub.com/servlet/OrdersGateway?cd...   \n",
       "36   The Fight to Choose  https://harpers.org/archive/2022/08/the-fight-...   \n",
       "\n",
       "      handle  \n",
       "602  harpers  \n",
       "561  harpers  \n",
       "16   harpers  \n",
       "41   harpers  \n",
       "36   harpers  "
      ]
     },
     "execution_count": 58,
     "metadata": {},
     "output_type": "execute_result"
    }
   ],
   "source": [
    "sample_df.head()"
   ]
  },
  {
   "cell_type": "markdown",
   "id": "19e03228-6746-48e3-b3f9-6ca922a6249e",
   "metadata": {},
   "source": [
    "Add a column for human reviewers to code each record."
   ]
  },
  {
   "cell_type": "code",
   "execution_count": 59,
   "id": "2b02984d-5ee0-4a4e-ae30-a39101a484e2",
   "metadata": {},
   "outputs": [],
   "source": [
    "sample_df['is_story'] = pd.NA"
   ]
  },
  {
   "cell_type": "code",
   "execution_count": 60,
   "id": "5d19277d-8fd8-494a-a0a5-4e60ad618713",
   "metadata": {},
   "outputs": [],
   "source": [
    "sample_df.to_csv(input_path / \"sample.csv\", index=False)"
   ]
  }
 ],
 "metadata": {
  "kernelspec": {
   "display_name": "Python 3 (ipykernel)",
   "language": "python",
   "name": "python3"
  },
  "language_info": {
   "codemirror_mode": {
    "name": "ipython",
    "version": 3
   },
   "file_extension": ".py",
   "mimetype": "text/x-python",
   "name": "python",
   "nbconvert_exporter": "python",
   "pygments_lexer": "ipython3",
   "version": "3.9.2"
  }
 },
 "nbformat": 4,
 "nbformat_minor": 5
}
