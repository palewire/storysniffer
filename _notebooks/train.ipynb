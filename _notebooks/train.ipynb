{
 "cells": [
  {
   "cell_type": "markdown",
   "id": "a72bd8f4-b725-4ccd-9845-40eaf3b2a818",
   "metadata": {},
   "source": [
    "# Train\n",
    "\n",
    "Creating and testing machine learning models"
   ]
  },
  {
   "cell_type": "markdown",
   "id": "d60613e7-6fb4-4e4d-bf12-2adea738ed74",
   "metadata": {},
   "source": [
    "## Import\n",
    "\n",
    "Bring in standard Python tools"
   ]
  },
  {
   "cell_type": "code",
   "execution_count": 34,
   "id": "57c51c5d-289c-4b49-990f-a17dfe86449b",
   "metadata": {},
   "outputs": [],
   "source": [
    "import pathlib\n",
    "from urllib.parse import urlparse"
   ]
  },
  {
   "cell_type": "markdown",
   "id": "c8a2f0f5-37b0-4423-a917-93678f9d843a",
   "metadata": {},
   "source": [
    "Third-party data libraries"
   ]
  },
  {
   "cell_type": "code",
   "execution_count": 35,
   "id": "ee121ac2-2a7e-4872-8ef3-f4084ec8106c",
   "metadata": {},
   "outputs": [],
   "source": [
    "import dill\n",
    "import tldextract\n",
    "import numpy as np\n",
    "import pandas as pd"
   ]
  },
  {
   "cell_type": "markdown",
   "id": "8751205a-5a1b-4ecb-a573-431116b7f156",
   "metadata": {},
   "source": [
    "Machine learning gear"
   ]
  },
  {
   "cell_type": "code",
   "execution_count": 36,
   "id": "c0123738-a33d-4755-b1c9-0b052b1a4ca6",
   "metadata": {},
   "outputs": [],
   "source": [
    "from sklearn import metrics\n",
    "from sklearn.base import TransformerMixin\n",
    "from sklearn.naive_bayes import GaussianNB\n",
    "from sklearn.model_selection import train_test_split\n",
    "from sklearn.preprocessing import FunctionTransformer\n",
    "from sklearn.pipeline import make_pipeline, make_union\n",
    "from sklearn.feature_extraction.text import CountVectorizer"
   ]
  },
  {
   "cell_type": "markdown",
   "id": "04d2d848-9607-4db0-b4dd-ce6ea4fe57ad",
   "metadata": {},
   "source": [
    "## Prepare data"
   ]
  },
  {
   "cell_type": "markdown",
   "id": "c5330c25-259b-4c6f-a552-7b8c3c973c38",
   "metadata": {},
   "source": [
    "Read in our supervised dataset."
   ]
  },
  {
   "cell_type": "code",
   "execution_count": 37,
   "id": "f7d3a33c-7a42-4692-9f7f-021c3f4208aa",
   "metadata": {},
   "outputs": [],
   "source": [
    "input_path = pathlib.Path(\"\") / \"input\""
   ]
  },
  {
   "cell_type": "code",
   "execution_count": 38,
   "id": "56726a8b-f756-43c0-bf02-7db7e880f97e",
   "metadata": {},
   "outputs": [],
   "source": [
    "output_path = pathlib.Path(\"\") / \"output\""
   ]
  },
  {
   "cell_type": "code",
   "execution_count": 39,
   "id": "04f1558a-b8e4-4c18-9a9d-bb7405372e07",
   "metadata": {},
   "outputs": [],
   "source": [
    "labeled_df = pd.read_csv(\n",
    "    input_path / \"labeled.csv\",\n",
    "    dtype={\"is_story\": int, \"text\": str}\n",
    ")"
   ]
  },
  {
   "cell_type": "code",
   "execution_count": 40,
   "id": "6a8d2d53-c636-4bb8-b44e-495ba0a145a0",
   "metadata": {},
   "outputs": [
    {
     "name": "stdout",
     "output_type": "stream",
     "text": [
      "<class 'pandas.core.frame.DataFrame'>\n",
      "RangeIndex: 2734 entries, 0 to 2733\n",
      "Data columns (total 4 columns):\n",
      " #   Column    Non-Null Count  Dtype \n",
      "---  ------    --------------  ----- \n",
      " 0   text      2734 non-null   object\n",
      " 1   url       2734 non-null   object\n",
      " 2   handle    2734 non-null   object\n",
      " 3   is_story  2734 non-null   int64 \n",
      "dtypes: int64(1), object(3)\n",
      "memory usage: 85.6+ KB\n"
     ]
    }
   ],
   "source": [
    "labeled_df.info()"
   ]
  },
  {
   "cell_type": "code",
   "execution_count": 41,
   "id": "4da5c40d-8a85-40c3-99fa-9fbf30e5706b",
   "metadata": {},
   "outputs": [
    {
     "data": {
      "text/html": [
       "<div>\n",
       "<style scoped>\n",
       "    .dataframe tbody tr th:only-of-type {\n",
       "        vertical-align: middle;\n",
       "    }\n",
       "\n",
       "    .dataframe tbody tr th {\n",
       "        vertical-align: top;\n",
       "    }\n",
       "\n",
       "    .dataframe thead th {\n",
       "        text-align: right;\n",
       "    }\n",
       "</style>\n",
       "<table border=\"1\" class=\"dataframe\">\n",
       "  <thead>\n",
       "    <tr style=\"text-align: right;\">\n",
       "      <th></th>\n",
       "      <th>text</th>\n",
       "      <th>url</th>\n",
       "      <th>handle</th>\n",
       "      <th>is_story</th>\n",
       "    </tr>\n",
       "  </thead>\n",
       "  <tbody>\n",
       "    <tr>\n",
       "      <th>0</th>\n",
       "      <td>A Tradition of Violence</td>\n",
       "      <td>https://knock-la.com/tradition-of-violence-las...</td>\n",
       "      <td>knockdotla</td>\n",
       "      <td>1</td>\n",
       "    </tr>\n",
       "    <tr>\n",
       "      <th>1</th>\n",
       "      <td>8 \\n\\t\\t\\t\\t\\t\\t\\t\\t  \\t\\t\\n\\t\\t\\t\\t\\t\\t\\t\\t\\t...</td>\n",
       "      <td>https://jewishcurrents.org/bad-education</td>\n",
       "      <td>jewishcurrents</td>\n",
       "      <td>1</td>\n",
       "    </tr>\n",
       "    <tr>\n",
       "      <th>2</th>\n",
       "      <td>69\\n\\t\\t\\t\\t\\t\\t\\t\\n\\t\\t\\t\\t\\t\\tView Slide Show</td>\n",
       "      <td>https://www.nationalreview.com/photos/russia-u...</td>\n",
       "      <td>nro</td>\n",
       "      <td>1</td>\n",
       "    </tr>\n",
       "    <tr>\n",
       "      <th>3</th>\n",
       "      <td>20 Under 40</td>\n",
       "      <td>https://www.lagrangenews.com/20-under-40/</td>\n",
       "      <td>lagrangenews</td>\n",
       "      <td>1</td>\n",
       "    </tr>\n",
       "    <tr>\n",
       "      <th>4</th>\n",
       "      <td>Bela’s Pilgrim</td>\n",
       "      <td>https://jewishcurrents.org/belas-pilgrim</td>\n",
       "      <td>jewishcurrents</td>\n",
       "      <td>1</td>\n",
       "    </tr>\n",
       "  </tbody>\n",
       "</table>\n",
       "</div>"
      ],
      "text/plain": [
       "                                                text  \\\n",
       "0                            A Tradition of Violence   \n",
       "1  8 \\n\\t\\t\\t\\t\\t\\t\\t\\t  \\t\\t\\n\\t\\t\\t\\t\\t\\t\\t\\t\\t...   \n",
       "2    69\\n\\t\\t\\t\\t\\t\\t\\t\\n\\t\\t\\t\\t\\t\\tView Slide Show   \n",
       "3                                        20 Under 40   \n",
       "4                                     Bela’s Pilgrim   \n",
       "\n",
       "                                                 url          handle  is_story  \n",
       "0  https://knock-la.com/tradition-of-violence-las...      knockdotla         1  \n",
       "1           https://jewishcurrents.org/bad-education  jewishcurrents         1  \n",
       "2  https://www.nationalreview.com/photos/russia-u...             nro         1  \n",
       "3          https://www.lagrangenews.com/20-under-40/    lagrangenews         1  \n",
       "4           https://jewishcurrents.org/belas-pilgrim  jewishcurrents         1  "
      ]
     },
     "execution_count": 41,
     "metadata": {},
     "output_type": "execute_result"
    }
   ],
   "source": [
    "labeled_df.head()"
   ]
  },
  {
   "cell_type": "markdown",
   "id": "60150891-7302-4b9a-bab1-e8b81d1f1fc6",
   "metadata": {},
   "source": [
    "Extract the paths from the urls"
   ]
  },
  {
   "cell_type": "code",
   "execution_count": 42,
   "id": "7152cac7-623d-4ebc-bcd5-b70044e497c5",
   "metadata": {},
   "outputs": [],
   "source": [
    "labeled_df['path'] = labeled_df.url.apply(lambda x: urlparse(x).path)"
   ]
  },
  {
   "cell_type": "markdown",
   "id": "facf10b1-aa9c-4c05-8862-d57dd9a65778",
   "metadata": {},
   "source": [
    "Extract the domain"
   ]
  },
  {
   "cell_type": "code",
   "execution_count": 43,
   "id": "e724a7a9-ede5-47ee-b15d-8cb728169e35",
   "metadata": {},
   "outputs": [],
   "source": [
    "labeled_df['domain'] = labeled_df.url.apply(lambda x: tldextract.extract(x).domain)"
   ]
  },
  {
   "cell_type": "markdown",
   "id": "ddf42b56-2770-4e15-99b9-9a7f89ef20cf",
   "metadata": {},
   "source": [
    "Extract the subdomain"
   ]
  },
  {
   "cell_type": "code",
   "execution_count": 44,
   "id": "28fc4027-c15a-4cdc-a7e1-11eb92ebc9e4",
   "metadata": {},
   "outputs": [],
   "source": [
    "labeled_df['subdomain'] = labeled_df.url.apply(lambda x: tldextract.extract(x).subdomain)"
   ]
  },
  {
   "cell_type": "code",
   "execution_count": 45,
   "id": "a39a9361-669a-4eeb-8003-6dc966cd70a7",
   "metadata": {},
   "outputs": [
    {
     "data": {
      "text/html": [
       "<div>\n",
       "<style scoped>\n",
       "    .dataframe tbody tr th:only-of-type {\n",
       "        vertical-align: middle;\n",
       "    }\n",
       "\n",
       "    .dataframe tbody tr th {\n",
       "        vertical-align: top;\n",
       "    }\n",
       "\n",
       "    .dataframe thead th {\n",
       "        text-align: right;\n",
       "    }\n",
       "</style>\n",
       "<table border=\"1\" class=\"dataframe\">\n",
       "  <thead>\n",
       "    <tr style=\"text-align: right;\">\n",
       "      <th></th>\n",
       "      <th>text</th>\n",
       "      <th>url</th>\n",
       "      <th>handle</th>\n",
       "      <th>is_story</th>\n",
       "      <th>path</th>\n",
       "      <th>domain</th>\n",
       "      <th>subdomain</th>\n",
       "    </tr>\n",
       "  </thead>\n",
       "  <tbody>\n",
       "    <tr>\n",
       "      <th>0</th>\n",
       "      <td>A Tradition of Violence</td>\n",
       "      <td>https://knock-la.com/tradition-of-violence-las...</td>\n",
       "      <td>knockdotla</td>\n",
       "      <td>1</td>\n",
       "      <td>/tradition-of-violence-lasd-gang-history/</td>\n",
       "      <td>knock-la</td>\n",
       "      <td></td>\n",
       "    </tr>\n",
       "    <tr>\n",
       "      <th>1</th>\n",
       "      <td>8 \\n\\t\\t\\t\\t\\t\\t\\t\\t  \\t\\t\\n\\t\\t\\t\\t\\t\\t\\t\\t\\t...</td>\n",
       "      <td>https://jewishcurrents.org/bad-education</td>\n",
       "      <td>jewishcurrents</td>\n",
       "      <td>1</td>\n",
       "      <td>/bad-education</td>\n",
       "      <td>jewishcurrents</td>\n",
       "      <td></td>\n",
       "    </tr>\n",
       "    <tr>\n",
       "      <th>2</th>\n",
       "      <td>69\\n\\t\\t\\t\\t\\t\\t\\t\\n\\t\\t\\t\\t\\t\\tView Slide Show</td>\n",
       "      <td>https://www.nationalreview.com/photos/russia-u...</td>\n",
       "      <td>nro</td>\n",
       "      <td>1</td>\n",
       "      <td>/photos/russia-ukraine-war-week-22/</td>\n",
       "      <td>nationalreview</td>\n",
       "      <td>www</td>\n",
       "    </tr>\n",
       "    <tr>\n",
       "      <th>3</th>\n",
       "      <td>20 Under 40</td>\n",
       "      <td>https://www.lagrangenews.com/20-under-40/</td>\n",
       "      <td>lagrangenews</td>\n",
       "      <td>1</td>\n",
       "      <td>/20-under-40/</td>\n",
       "      <td>lagrangenews</td>\n",
       "      <td>www</td>\n",
       "    </tr>\n",
       "    <tr>\n",
       "      <th>4</th>\n",
       "      <td>Bela’s Pilgrim</td>\n",
       "      <td>https://jewishcurrents.org/belas-pilgrim</td>\n",
       "      <td>jewishcurrents</td>\n",
       "      <td>1</td>\n",
       "      <td>/belas-pilgrim</td>\n",
       "      <td>jewishcurrents</td>\n",
       "      <td></td>\n",
       "    </tr>\n",
       "  </tbody>\n",
       "</table>\n",
       "</div>"
      ],
      "text/plain": [
       "                                                text  \\\n",
       "0                            A Tradition of Violence   \n",
       "1  8 \\n\\t\\t\\t\\t\\t\\t\\t\\t  \\t\\t\\n\\t\\t\\t\\t\\t\\t\\t\\t\\t...   \n",
       "2    69\\n\\t\\t\\t\\t\\t\\t\\t\\n\\t\\t\\t\\t\\t\\tView Slide Show   \n",
       "3                                        20 Under 40   \n",
       "4                                     Bela’s Pilgrim   \n",
       "\n",
       "                                                 url          handle  \\\n",
       "0  https://knock-la.com/tradition-of-violence-las...      knockdotla   \n",
       "1           https://jewishcurrents.org/bad-education  jewishcurrents   \n",
       "2  https://www.nationalreview.com/photos/russia-u...             nro   \n",
       "3          https://www.lagrangenews.com/20-under-40/    lagrangenews   \n",
       "4           https://jewishcurrents.org/belas-pilgrim  jewishcurrents   \n",
       "\n",
       "   is_story                                       path          domain  \\\n",
       "0         1  /tradition-of-violence-lasd-gang-history/        knock-la   \n",
       "1         1                             /bad-education  jewishcurrents   \n",
       "2         1        /photos/russia-ukraine-war-week-22/  nationalreview   \n",
       "3         1                              /20-under-40/    lagrangenews   \n",
       "4         1                             /belas-pilgrim  jewishcurrents   \n",
       "\n",
       "  subdomain  \n",
       "0            \n",
       "1            \n",
       "2       www  \n",
       "3       www  \n",
       "4            "
      ]
     },
     "execution_count": 45,
     "metadata": {},
     "output_type": "execute_result"
    }
   ],
   "source": [
    "labeled_df.head()"
   ]
  },
  {
   "cell_type": "markdown",
   "id": "7b72185f-02b4-467d-9ac3-d5ef48ce19fc",
   "metadata": {},
   "source": [
    "Remove rows without a headline"
   ]
  },
  {
   "cell_type": "code",
   "execution_count": 46,
   "id": "68a8dcbb-7652-44f6-a5d7-06ef3f4254e1",
   "metadata": {},
   "outputs": [],
   "source": [
    "training_df = labeled_df[~(labeled_df.text == \"\")]"
   ]
  },
  {
   "cell_type": "markdown",
   "id": "28a13b7a-f641-4544-b183-fc3a8a682948",
   "metadata": {},
   "source": [
    "Remove blacklisted domains"
   ]
  },
  {
   "cell_type": "code",
   "execution_count": 47,
   "id": "756a473f-6929-42c7-a135-04011d1095f0",
   "metadata": {},
   "outputs": [],
   "source": [
    "DOMAIN_BLACKLIST = (\n",
    "    \"google\",\n",
    "    \"twitter\",\n",
    "    \"facebook\",\n",
    "    \"doubleclick\",\n",
    "    \"instagram\",\n",
    "    \"pinterest\",\n",
    "    \"legacy\",\n",
    ")"
   ]
  },
  {
   "cell_type": "code",
   "execution_count": 48,
   "id": "1e23f61a-ed7b-4411-bd12-e38f4c1fb3c9",
   "metadata": {},
   "outputs": [],
   "source": [
    "training_df = training_df[~(training_df.domain.isin(DOMAIN_BLACKLIST))]"
   ]
  },
  {
   "cell_type": "markdown",
   "id": "a6278b5e-fa08-495c-9444-267f45bc8cf7",
   "metadata": {},
   "source": [
    "Same for subdomain"
   ]
  },
  {
   "cell_type": "code",
   "execution_count": 49,
   "id": "940b818c-9327-4afa-9dda-22aebf3ddd21",
   "metadata": {},
   "outputs": [],
   "source": [
    "SUBDOMAIN_BLACKLIST = (\n",
    "    \"careers\",\n",
    "    \"mail\",\n",
    "    \"account\",\n",
    ")"
   ]
  },
  {
   "cell_type": "code",
   "execution_count": 50,
   "id": "ae49e31c-ebd2-4cb9-94ab-a4d3ba48e711",
   "metadata": {},
   "outputs": [],
   "source": [
    "training_df = training_df[~(training_df.subdomain.isin(SUBDOMAIN_BLACKLIST))]"
   ]
  },
  {
   "cell_type": "markdown",
   "id": "fa437c5c-daa9-406f-b90a-4f7d296a403e",
   "metadata": {},
   "source": [
    "Cut any duplicates"
   ]
  },
  {
   "cell_type": "code",
   "execution_count": 51,
   "id": "152dccac-fe09-4d62-b4a5-2b4b2d4ce226",
   "metadata": {},
   "outputs": [],
   "source": [
    "training_df.drop_duplicates(inplace=True)"
   ]
  },
  {
   "cell_type": "markdown",
   "id": "58e0f522-6196-4e00-90f2-15ca9eee5244",
   "metadata": {},
   "source": [
    "## Train model"
   ]
  },
  {
   "cell_type": "markdown",
   "id": "ae3a5ca5-e19b-4abf-ab16-326bc5c0fd25",
   "metadata": {},
   "source": [
    "Create pipeline transformers that preprecess our text columns, convert the strings into vectors that are ready for analysis"
   ]
  },
  {
   "cell_type": "code",
   "execution_count": 52,
   "id": "c246ef2f-701a-4b2b-992a-2f610930b4ee",
   "metadata": {},
   "outputs": [],
   "source": [
    "class DataFrameColumnExtracter(TransformerMixin):\n",
    "    \"\"\"A custom object that can pull different columns from our DataFrames.\"\"\"\n",
    "\n",
    "    def __init__(self, column):\n",
    "        self.column = column\n",
    "\n",
    "    def fit(self, X, y=None):\n",
    "        return self\n",
    "\n",
    "    def transform(self, X, y=None):\n",
    "        if isinstance(X, list):\n",
    "            return [d[self.column] for d in X]\n",
    "        else:\n",
    "            return X[self.column]"
   ]
  },
  {
   "cell_type": "code",
   "execution_count": 53,
   "id": "145847f6-6f89-4e34-a347-d40f7498c3cc",
   "metadata": {},
   "outputs": [],
   "source": [
    "def densify(x):\n",
    "    \"\"\"Condense a sparse CountVectorizer result into an array that GaussianNB can work with.\"\"\"\n",
    "    return x.toarray()"
   ]
  },
  {
   "cell_type": "markdown",
   "id": "9cfedec0-e446-4e01-ada8-edc0bde095e2",
   "metadata": {},
   "source": [
    "A transformer that can work with our text column."
   ]
  },
  {
   "cell_type": "code",
   "execution_count": 54,
   "id": "7d344bfb-016e-41e9-ab6f-52f00e6860a9",
   "metadata": {},
   "outputs": [],
   "source": [
    "text_transformer = make_pipeline(\n",
    "   DataFrameColumnExtracter('text'), \n",
    "   CountVectorizer(min_df=0.1, max_df=0.9, ngram_range=(1, 8), analyzer=\"char\"),\n",
    "   FunctionTransformer(densify, accept_sparse=True)\n",
    ")"
   ]
  },
  {
   "cell_type": "markdown",
   "id": "f8566f96-4d3a-4205-9934-52271e3f99f5",
   "metadata": {},
   "source": [
    "A transformer that can work with our path column."
   ]
  },
  {
   "cell_type": "code",
   "execution_count": 55,
   "id": "e8bff6e0-cd9e-44a4-b90b-ea767454b331",
   "metadata": {},
   "outputs": [],
   "source": [
    "path_transformer = make_pipeline(\n",
    "   DataFrameColumnExtracter('path'), \n",
    "   CountVectorizer(min_df=0.1, max_df=0.9, ngram_range=(1, 8), analyzer=\"char\"),\n",
    "   FunctionTransformer(densify, accept_sparse=True)\n",
    ")"
   ]
  },
  {
   "cell_type": "markdown",
   "id": "933323db-e974-4f13-91c5-751225a5fd10",
   "metadata": {},
   "source": [
    "Set our training set"
   ]
  },
  {
   "cell_type": "code",
   "execution_count": 56,
   "id": "cbb98f47-e750-4af1-9f53-bd549b1809b0",
   "metadata": {},
   "outputs": [],
   "source": [
    "X = training_df\n",
    "y = training_df['is_story']"
   ]
  },
  {
   "cell_type": "code",
   "execution_count": 57,
   "id": "6e18904e-e8e4-4b7a-becd-66c9b5b32ad7",
   "metadata": {},
   "outputs": [],
   "source": [
    "train, test, train_labels, test_labels = train_test_split(\n",
    "    X,\n",
    "    y,\n",
    "    test_size=0.33,\n",
    "    random_state=45\n",
    ")"
   ]
  },
  {
   "cell_type": "markdown",
   "id": "df35f09f-dff1-48b2-869f-55ecf838ba6b",
   "metadata": {},
   "source": [
    "Create a model that uses both fields."
   ]
  },
  {
   "cell_type": "code",
   "execution_count": 58,
   "id": "7d2b1203-ab68-4910-b0fc-8ae6ec521ba9",
   "metadata": {},
   "outputs": [],
   "source": [
    "def get_path_and_text_model():\n",
    "    \"\"\"Create a model that uses both the `path` and `text` fields.\"\"\"\n",
    "    # Create a pipeline that pulls in both fields\n",
    "    pipe = make_pipeline(\n",
    "        make_union(text_transformer, path_transformer),\n",
    "        GaussianNB()\n",
    "    )\n",
    "    \n",
    "    # Train it\n",
    "    model = pipe.fit(train, train_labels)\n",
    "    \n",
    "    # Test it\n",
    "    preds = model.predict(test)\n",
    "    \n",
    "    # Print the test results\n",
    "    print(metrics.classification_report(test_labels, preds))\n",
    "\n",
    "    # Return it\n",
    "    return model"
   ]
  },
  {
   "cell_type": "code",
   "execution_count": 59,
   "id": "0186e6b8-c5ae-4eeb-a475-5ac0ec8f65ca",
   "metadata": {},
   "outputs": [
    {
     "name": "stdout",
     "output_type": "stream",
     "text": [
      "              precision    recall  f1-score   support\n",
      "\n",
      "           0       0.98      0.94      0.96       534\n",
      "           1       0.92      0.97      0.94       350\n",
      "\n",
      "    accuracy                           0.95       884\n",
      "   macro avg       0.95      0.96      0.95       884\n",
      "weighted avg       0.95      0.95      0.95       884\n",
      "\n"
     ]
    }
   ],
   "source": [
    "path_and_text_model = get_path_and_text_model()"
   ]
  },
  {
   "cell_type": "markdown",
   "id": "30b48bc3-0953-4a69-8b28-e4ed1e088062",
   "metadata": {},
   "source": [
    "Create a model that uses only the path field."
   ]
  },
  {
   "cell_type": "code",
   "execution_count": 60,
   "id": "56ae01f7-a529-4b2a-8eec-d4da0ee05ad3",
   "metadata": {},
   "outputs": [],
   "source": [
    "def get_path_only_model():\n",
    "    \"\"\"Create a model that uses only the `path` field.\"\"\"\n",
    "    # Create a pipeline that pulls just that field\n",
    "    pipe = make_pipeline(path_transformer, GaussianNB())\n",
    "    \n",
    "    # Train it\n",
    "    model = pipe.fit(train, train_labels)\n",
    "    \n",
    "    # Test it\n",
    "    preds = model.predict(test)\n",
    "    \n",
    "    # Print the test results\n",
    "    print(metrics.classification_report(test_labels, preds))\n",
    "\n",
    "    # Return it\n",
    "    return model"
   ]
  },
  {
   "cell_type": "code",
   "execution_count": 61,
   "id": "b2da13dd-bce0-4fad-944a-cb1acf09248b",
   "metadata": {},
   "outputs": [
    {
     "name": "stdout",
     "output_type": "stream",
     "text": [
      "              precision    recall  f1-score   support\n",
      "\n",
      "           0       0.97      0.94      0.96       534\n",
      "           1       0.92      0.95      0.93       350\n",
      "\n",
      "    accuracy                           0.95       884\n",
      "   macro avg       0.94      0.95      0.94       884\n",
      "weighted avg       0.95      0.95      0.95       884\n",
      "\n"
     ]
    }
   ],
   "source": [
    "path_only_model = get_path_only_model()"
   ]
  },
  {
   "cell_type": "markdown",
   "id": "608b1b2f-306e-4689-87a5-7aac3e046e56",
   "metadata": {},
   "source": [
    "## Review"
   ]
  },
  {
   "cell_type": "code",
   "execution_count": 62,
   "id": "0adee747-b8e0-4e49-af57-6647ece819f5",
   "metadata": {},
   "outputs": [],
   "source": [
    "example = [\n",
    "    dict(path=\"/2019/04/unhcr-corruption-refugee-resettlement/\", text=\"This is a headline\"),\n",
    "    dict(path=\"/\", text=\"Homepage\")\n",
    "]"
   ]
  },
  {
   "cell_type": "code",
   "execution_count": 63,
   "id": "81cb4f78-0437-4137-9abd-4c1126e30ddf",
   "metadata": {},
   "outputs": [
    {
     "data": {
      "text/plain": [
       "array([1, 0])"
      ]
     },
     "execution_count": 63,
     "metadata": {},
     "output_type": "execute_result"
    }
   ],
   "source": [
    "path_and_text_model.predict(example)"
   ]
  },
  {
   "cell_type": "code",
   "execution_count": 64,
   "id": "ee2d1edf-0fff-453b-abc9-b439e0f0dae0",
   "metadata": {},
   "outputs": [
    {
     "data": {
      "text/plain": [
       "array([1, 0])"
      ]
     },
     "execution_count": 64,
     "metadata": {},
     "output_type": "execute_result"
    }
   ],
   "source": [
    "path_only_model.predict(example)"
   ]
  },
  {
   "cell_type": "markdown",
   "id": "312293bd-36f3-4047-b6c2-660c6f278faa",
   "metadata": {},
   "source": [
    "## Export"
   ]
  },
  {
   "cell_type": "markdown",
   "id": "cde2bbfb-a81d-4f47-af35-cdcabcf409a9",
   "metadata": {},
   "source": [
    "Save the models as pickles"
   ]
  },
  {
   "cell_type": "code",
   "execution_count": 65,
   "id": "4b62a036-6e86-4e8e-8422-fa8abf5eb3ea",
   "metadata": {},
   "outputs": [],
   "source": [
    "with open(output_path / \"path-and-text-model.pickle\", 'wb') as fh:\n",
    "    dill.dump(path_and_text_model, fh)"
   ]
  },
  {
   "cell_type": "code",
   "execution_count": 66,
   "id": "81c07299-83c1-4c4d-836c-0c3bb61e4a5f",
   "metadata": {},
   "outputs": [],
   "source": [
    "with open(output_path / \"path-only-model.pickle\", 'wb') as fh:\n",
    "    dill.dump(path_only_model, fh)"
   ]
  }
 ],
 "metadata": {
  "kernelspec": {
   "display_name": "Python 3 (ipykernel)",
   "language": "python",
   "name": "python3"
  },
  "language_info": {
   "codemirror_mode": {
    "name": "ipython",
    "version": 3
   },
   "file_extension": ".py",
   "mimetype": "text/x-python",
   "name": "python",
   "nbconvert_exporter": "python",
   "pygments_lexer": "ipython3",
   "version": "3.9.2"
  }
 },
 "nbformat": 4,
 "nbformat_minor": 5
}
