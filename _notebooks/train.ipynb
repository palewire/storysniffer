{
 "cells": [
  {
   "cell_type": "markdown",
   "id": "a72bd8f4-b725-4ccd-9845-40eaf3b2a818",
   "metadata": {},
   "source": [
    "# Train\n",
    "\n",
    "Creating and testing machine learning models"
   ]
  },
  {
   "cell_type": "code",
   "execution_count": 1,
   "id": "c0123738-a33d-4755-b1c9-0b052b1a4ca6",
   "metadata": {},
   "outputs": [],
   "source": [
    "import pickle\n",
    "import pathlib\n",
    "import numpy as np\n",
    "import pandas as pd\n",
    "from urllib.parse import urlparse\n",
    "from sklearn.metrics import accuracy_score, classification_report\n",
    "from sklearn.naive_bayes import GaussianNB\n",
    "from sklearn.model_selection import train_test_split\n",
    "from sklearn.feature_extraction.text import CountVectorizer"
   ]
  },
  {
   "cell_type": "markdown",
   "id": "c5330c25-259b-4c6f-a552-7b8c3c973c38",
   "metadata": {},
   "source": [
    "Read in our supervised dataset."
   ]
  },
  {
   "cell_type": "code",
   "execution_count": 2,
   "id": "f7d3a33c-7a42-4692-9f7f-021c3f4208aa",
   "metadata": {},
   "outputs": [],
   "source": [
    "input_path = pathlib.Path(\"\") / \"input\""
   ]
  },
  {
   "cell_type": "code",
   "execution_count": 3,
   "id": "56726a8b-f756-43c0-bf02-7db7e880f97e",
   "metadata": {},
   "outputs": [],
   "source": [
    "output_path = pathlib.Path(\"\") / \"output\""
   ]
  },
  {
   "cell_type": "code",
   "execution_count": 4,
   "id": "04f1558a-b8e4-4c18-9a9d-bb7405372e07",
   "metadata": {},
   "outputs": [],
   "source": [
    "coded_df = pd.read_csv(input_path / \"coded.csv\", dtype={\"is_story\": int})"
   ]
  },
  {
   "cell_type": "code",
   "execution_count": 5,
   "id": "6a8d2d53-c636-4bb8-b44e-495ba0a145a0",
   "metadata": {},
   "outputs": [
    {
     "name": "stdout",
     "output_type": "stream",
     "text": [
      "<class 'pandas.core.frame.DataFrame'>\n",
      "RangeIndex: 1288 entries, 0 to 1287\n",
      "Data columns (total 4 columns):\n",
      " #   Column    Non-Null Count  Dtype \n",
      "---  ------    --------------  ----- \n",
      " 0   text      1288 non-null   object\n",
      " 1   url       1288 non-null   object\n",
      " 2   handle    1288 non-null   object\n",
      " 3   is_story  1288 non-null   int64 \n",
      "dtypes: int64(1), object(3)\n",
      "memory usage: 40.4+ KB\n"
     ]
    }
   ],
   "source": [
    "coded_df.info()"
   ]
  },
  {
   "cell_type": "code",
   "execution_count": 6,
   "id": "4da5c40d-8a85-40c3-99fa-9fbf30e5706b",
   "metadata": {},
   "outputs": [
    {
     "data": {
      "text/html": [
       "<div>\n",
       "<style scoped>\n",
       "    .dataframe tbody tr th:only-of-type {\n",
       "        vertical-align: middle;\n",
       "    }\n",
       "\n",
       "    .dataframe tbody tr th {\n",
       "        vertical-align: top;\n",
       "    }\n",
       "\n",
       "    .dataframe thead th {\n",
       "        text-align: right;\n",
       "    }\n",
       "</style>\n",
       "<table border=\"1\" class=\"dataframe\">\n",
       "  <thead>\n",
       "    <tr style=\"text-align: right;\">\n",
       "      <th></th>\n",
       "      <th>text</th>\n",
       "      <th>url</th>\n",
       "      <th>handle</th>\n",
       "      <th>is_story</th>\n",
       "    </tr>\n",
       "  </thead>\n",
       "  <tbody>\n",
       "    <tr>\n",
       "      <th>0</th>\n",
       "      <td>About Us</td>\n",
       "      <td>https://100r.org/about/</td>\n",
       "      <td>100reporters</td>\n",
       "      <td>0</td>\n",
       "    </tr>\n",
       "    <tr>\n",
       "      <th>1</th>\n",
       "      <td>Asylum for Sale Refugees Say Some U.N. Workers...</td>\n",
       "      <td>https://100r.org/2019/04/unhcr-corruption-refu...</td>\n",
       "      <td>100reporters</td>\n",
       "      <td>1</td>\n",
       "    </tr>\n",
       "    <tr>\n",
       "      <th>2</th>\n",
       "      <td>Central/Eastern Europe</td>\n",
       "      <td>https://100r.org/about/the-reporters/central-e...</td>\n",
       "      <td>100reporters</td>\n",
       "      <td>0</td>\n",
       "    </tr>\n",
       "    <tr>\n",
       "      <th>3</th>\n",
       "      <td>Diana Jean Schemo</td>\n",
       "      <td>https://100r.org/author/diana/</td>\n",
       "      <td>100reporters</td>\n",
       "      <td>0</td>\n",
       "    </tr>\n",
       "    <tr>\n",
       "      <th>4</th>\n",
       "      <td>Did Industry Funding Influence an FDA Investig...</td>\n",
       "      <td>https://100r.org/2022/07/did-industry-funding-...</td>\n",
       "      <td>100reporters</td>\n",
       "      <td>1</td>\n",
       "    </tr>\n",
       "  </tbody>\n",
       "</table>\n",
       "</div>"
      ],
      "text/plain": [
       "                                                text  \\\n",
       "0                                           About Us   \n",
       "1  Asylum for Sale Refugees Say Some U.N. Workers...   \n",
       "2                             Central/Eastern Europe   \n",
       "3                                  Diana Jean Schemo   \n",
       "4  Did Industry Funding Influence an FDA Investig...   \n",
       "\n",
       "                                                 url        handle  is_story  \n",
       "0                            https://100r.org/about/  100reporters         0  \n",
       "1  https://100r.org/2019/04/unhcr-corruption-refu...  100reporters         1  \n",
       "2  https://100r.org/about/the-reporters/central-e...  100reporters         0  \n",
       "3                     https://100r.org/author/diana/  100reporters         0  \n",
       "4  https://100r.org/2022/07/did-industry-funding-...  100reporters         1  "
      ]
     },
     "execution_count": 6,
     "metadata": {},
     "output_type": "execute_result"
    }
   ],
   "source": [
    "coded_df.head()"
   ]
  },
  {
   "cell_type": "markdown",
   "id": "60150891-7302-4b9a-bab1-e8b81d1f1fc6",
   "metadata": {},
   "source": [
    "Extract the paths from the urls"
   ]
  },
  {
   "cell_type": "code",
   "execution_count": 7,
   "id": "7152cac7-623d-4ebc-bcd5-b70044e497c5",
   "metadata": {},
   "outputs": [],
   "source": [
    "coded_df['path'] = coded_df.url.apply(lambda x: urlparse(x).path)"
   ]
  },
  {
   "cell_type": "code",
   "execution_count": 8,
   "id": "a39a9361-669a-4eeb-8003-6dc966cd70a7",
   "metadata": {},
   "outputs": [
    {
     "data": {
      "text/html": [
       "<div>\n",
       "<style scoped>\n",
       "    .dataframe tbody tr th:only-of-type {\n",
       "        vertical-align: middle;\n",
       "    }\n",
       "\n",
       "    .dataframe tbody tr th {\n",
       "        vertical-align: top;\n",
       "    }\n",
       "\n",
       "    .dataframe thead th {\n",
       "        text-align: right;\n",
       "    }\n",
       "</style>\n",
       "<table border=\"1\" class=\"dataframe\">\n",
       "  <thead>\n",
       "    <tr style=\"text-align: right;\">\n",
       "      <th></th>\n",
       "      <th>text</th>\n",
       "      <th>url</th>\n",
       "      <th>handle</th>\n",
       "      <th>is_story</th>\n",
       "      <th>path</th>\n",
       "    </tr>\n",
       "  </thead>\n",
       "  <tbody>\n",
       "    <tr>\n",
       "      <th>0</th>\n",
       "      <td>About Us</td>\n",
       "      <td>https://100r.org/about/</td>\n",
       "      <td>100reporters</td>\n",
       "      <td>0</td>\n",
       "      <td>/about/</td>\n",
       "    </tr>\n",
       "    <tr>\n",
       "      <th>1</th>\n",
       "      <td>Asylum for Sale Refugees Say Some U.N. Workers...</td>\n",
       "      <td>https://100r.org/2019/04/unhcr-corruption-refu...</td>\n",
       "      <td>100reporters</td>\n",
       "      <td>1</td>\n",
       "      <td>/2019/04/unhcr-corruption-refugee-resettlement/</td>\n",
       "    </tr>\n",
       "    <tr>\n",
       "      <th>2</th>\n",
       "      <td>Central/Eastern Europe</td>\n",
       "      <td>https://100r.org/about/the-reporters/central-e...</td>\n",
       "      <td>100reporters</td>\n",
       "      <td>0</td>\n",
       "      <td>/about/the-reporters/central-eastern-europe-st...</td>\n",
       "    </tr>\n",
       "    <tr>\n",
       "      <th>3</th>\n",
       "      <td>Diana Jean Schemo</td>\n",
       "      <td>https://100r.org/author/diana/</td>\n",
       "      <td>100reporters</td>\n",
       "      <td>0</td>\n",
       "      <td>/author/diana/</td>\n",
       "    </tr>\n",
       "    <tr>\n",
       "      <th>4</th>\n",
       "      <td>Did Industry Funding Influence an FDA Investig...</td>\n",
       "      <td>https://100r.org/2022/07/did-industry-funding-...</td>\n",
       "      <td>100reporters</td>\n",
       "      <td>1</td>\n",
       "      <td>/2022/07/did-industry-funding-influence-an-fda...</td>\n",
       "    </tr>\n",
       "  </tbody>\n",
       "</table>\n",
       "</div>"
      ],
      "text/plain": [
       "                                                text  \\\n",
       "0                                           About Us   \n",
       "1  Asylum for Sale Refugees Say Some U.N. Workers...   \n",
       "2                             Central/Eastern Europe   \n",
       "3                                  Diana Jean Schemo   \n",
       "4  Did Industry Funding Influence an FDA Investig...   \n",
       "\n",
       "                                                 url        handle  is_story  \\\n",
       "0                            https://100r.org/about/  100reporters         0   \n",
       "1  https://100r.org/2019/04/unhcr-corruption-refu...  100reporters         1   \n",
       "2  https://100r.org/about/the-reporters/central-e...  100reporters         0   \n",
       "3                     https://100r.org/author/diana/  100reporters         0   \n",
       "4  https://100r.org/2022/07/did-industry-funding-...  100reporters         1   \n",
       "\n",
       "                                                path  \n",
       "0                                            /about/  \n",
       "1    /2019/04/unhcr-corruption-refugee-resettlement/  \n",
       "2  /about/the-reporters/central-eastern-europe-st...  \n",
       "3                                     /author/diana/  \n",
       "4  /2022/07/did-industry-funding-influence-an-fda...  "
      ]
     },
     "execution_count": 8,
     "metadata": {},
     "output_type": "execute_result"
    }
   ],
   "source": [
    "coded_df.head()"
   ]
  },
  {
   "cell_type": "markdown",
   "id": "1ffbf738-8726-4f32-8969-b02cea8d1034",
   "metadata": {},
   "source": [
    "Set our label, which is whether the URL leads to a story or not."
   ]
  },
  {
   "cell_type": "code",
   "execution_count": 9,
   "id": "a0a58167-ea86-4abf-b598-3d4609346d0d",
   "metadata": {},
   "outputs": [],
   "source": [
    "target_names = ['no', 'yes']"
   ]
  },
  {
   "cell_type": "code",
   "execution_count": 10,
   "id": "8ab63613-89ac-46cb-b63a-5b39956a47ee",
   "metadata": {},
   "outputs": [],
   "source": [
    "labels = coded_df.is_story.to_numpy()"
   ]
  },
  {
   "cell_type": "markdown",
   "id": "ae3a5ca5-e19b-4abf-ab16-326bc5c0fd25",
   "metadata": {},
   "source": [
    "Use NLP to convert the string fields into values"
   ]
  },
  {
   "cell_type": "code",
   "execution_count": 11,
   "id": "9ee455a6-4143-4481-af78-732d73916428",
   "metadata": {},
   "outputs": [],
   "source": [
    "feature_names = [\"text\", \"path\"]"
   ]
  },
  {
   "cell_type": "code",
   "execution_count": 295,
   "id": "26009732-682d-4ba7-ab15-779f6bdbe119",
   "metadata": {},
   "outputs": [],
   "source": [
    "vectorizer = CountVectorizer(min_df=0.1, max_df=0.9, ngram_range=(1, 3), analyzer=\"char\")"
   ]
  },
  {
   "cell_type": "code",
   "execution_count": 296,
   "id": "093a99c8-f630-4869-bb46-843bf48018de",
   "metadata": {},
   "outputs": [],
   "source": [
    "text_feature = vectorizer.fit_transform(coded_df.text).toarray()"
   ]
  },
  {
   "cell_type": "code",
   "execution_count": 297,
   "id": "ae1a7e24-2df9-438c-95ed-26939d629043",
   "metadata": {},
   "outputs": [],
   "source": [
    "path_feature = vectorizer.fit_transform(coded_df.path).toarray()"
   ]
  },
  {
   "cell_type": "markdown",
   "id": "c8d47ae7-6c2f-4a15-b212-748924575a43",
   "metadata": {},
   "source": [
    "Combine the two string features into a single vector"
   ]
  },
  {
   "cell_type": "code",
   "execution_count": 298,
   "id": "9a1cc45e-2b69-44e4-81a4-28a2fe08ff5d",
   "metadata": {},
   "outputs": [],
   "source": [
    "features = np.concatenate([text_feature, path_feature], axis=1)"
   ]
  },
  {
   "cell_type": "markdown",
   "id": "b853cecc-c4b5-4d1f-b30d-874761e368de",
   "metadata": {},
   "source": [
    "Create a training set to test against"
   ]
  },
  {
   "cell_type": "code",
   "execution_count": 299,
   "id": "153d386d-50a9-4fe2-b3ef-250b01b6a992",
   "metadata": {},
   "outputs": [],
   "source": [
    "train, test, train_labels, test_labels = train_test_split(\n",
    "    features,\n",
    "    labels,\n",
    "    test_size=0.33,\n",
    "    random_state=45\n",
    ")"
   ]
  },
  {
   "cell_type": "markdown",
   "id": "b95a5b94-2486-41b1-b202-5f3520d6a960",
   "metadata": {},
   "source": [
    "Create the classifier"
   ]
  },
  {
   "cell_type": "code",
   "execution_count": 300,
   "id": "709886bc-23ac-4a63-a4ae-e0a123227a50",
   "metadata": {},
   "outputs": [],
   "source": [
    "gnb = GaussianNB()"
   ]
  },
  {
   "cell_type": "markdown",
   "id": "3345ab76-ec23-4776-afb8-f289097a5752",
   "metadata": {},
   "source": [
    "Train it."
   ]
  },
  {
   "cell_type": "code",
   "execution_count": 301,
   "id": "d5b68fb1-765b-4ed5-9eff-a6f228fea9fd",
   "metadata": {},
   "outputs": [],
   "source": [
    "model = gnb.fit(train, train_labels)"
   ]
  },
  {
   "cell_type": "markdown",
   "id": "5852afb4-6229-486b-81ad-81aa682893d5",
   "metadata": {},
   "source": [
    "Make predictions."
   ]
  },
  {
   "cell_type": "code",
   "execution_count": 302,
   "id": "18ee1d1b-f906-4ec9-aa60-965c32bc8fc6",
   "metadata": {},
   "outputs": [],
   "source": [
    "preds = gnb.predict(test)"
   ]
  },
  {
   "cell_type": "markdown",
   "id": "2d5232f2-18ac-40ee-b496-726ee47f06dc",
   "metadata": {},
   "source": [
    "Review the results"
   ]
  },
  {
   "cell_type": "code",
   "execution_count": 303,
   "id": "5ce8e617-e959-4ba5-873d-a8c5cac71e2c",
   "metadata": {},
   "outputs": [
    {
     "data": {
      "text/plain": [
       "0.9577464788732394"
      ]
     },
     "execution_count": 303,
     "metadata": {},
     "output_type": "execute_result"
    }
   ],
   "source": [
    "accuracy_score(test_labels, preds)"
   ]
  },
  {
   "cell_type": "code",
   "execution_count": 304,
   "id": "6e653e3e-a5ff-404e-a957-2330ca5f9d46",
   "metadata": {},
   "outputs": [
    {
     "name": "stdout",
     "output_type": "stream",
     "text": [
      "              precision    recall  f1-score   support\n",
      "\n",
      "           0       0.98      0.95      0.96       260\n",
      "           1       0.93      0.96      0.95       166\n",
      "\n",
      "    accuracy                           0.96       426\n",
      "   macro avg       0.95      0.96      0.96       426\n",
      "weighted avg       0.96      0.96      0.96       426\n",
      "\n"
     ]
    }
   ],
   "source": [
    "print(classification_report(test_labels, preds))"
   ]
  },
  {
   "cell_type": "code",
   "execution_count": 305,
   "id": "4b62a036-6e86-4e8e-8422-fa8abf5eb3ea",
   "metadata": {},
   "outputs": [],
   "source": [
    "with open(output_path / \"gnb.pickle\", 'wb') as fh:\n",
    "    pickle.dump(model, fh)"
   ]
  }
 ],
 "metadata": {
  "kernelspec": {
   "display_name": "Python 3 (ipykernel)",
   "language": "python",
   "name": "python3"
  },
  "language_info": {
   "codemirror_mode": {
    "name": "ipython",
    "version": 3
   },
   "file_extension": ".py",
   "mimetype": "text/x-python",
   "name": "python",
   "nbconvert_exporter": "python",
   "pygments_lexer": "ipython3",
   "version": "3.9.2"
  }
 },
 "nbformat": 4,
 "nbformat_minor": 5
}
