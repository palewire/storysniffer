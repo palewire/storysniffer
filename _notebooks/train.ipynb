{
 "cells": [
  {
   "cell_type": "markdown",
   "id": "a72bd8f4-b725-4ccd-9845-40eaf3b2a818",
   "metadata": {},
   "source": [
    "# Train\n",
    "\n",
    "Creating and testing machine learning models"
   ]
  },
  {
   "cell_type": "markdown",
   "id": "d60613e7-6fb4-4e4d-bf12-2adea738ed74",
   "metadata": {},
   "source": [
    "## Import\n",
    "\n",
    "Bring in standard Python tools"
   ]
  },
  {
   "cell_type": "code",
   "execution_count": 1,
   "id": "57c51c5d-289c-4b49-990f-a17dfe86449b",
   "metadata": {},
   "outputs": [],
   "source": [
    "import pathlib\n",
    "from urllib.parse import urlparse"
   ]
  },
  {
   "cell_type": "markdown",
   "id": "c8a2f0f5-37b0-4423-a917-93678f9d843a",
   "metadata": {},
   "source": [
    "Third-party data libraries"
   ]
  },
  {
   "cell_type": "code",
   "execution_count": 2,
   "id": "ee121ac2-2a7e-4872-8ef3-f4084ec8106c",
   "metadata": {},
   "outputs": [],
   "source": [
    "import skops.io\n",
    "import tldextract\n",
    "import numpy as np\n",
    "import pandas as pd"
   ]
  },
  {
   "cell_type": "markdown",
   "id": "8751205a-5a1b-4ecb-a573-431116b7f156",
   "metadata": {},
   "source": [
    "Machine learning gear"
   ]
  },
  {
   "cell_type": "code",
   "execution_count": 3,
   "id": "c0123738-a33d-4755-b1c9-0b052b1a4ca6",
   "metadata": {},
   "outputs": [],
   "source": [
    "from sklearn import metrics\n",
    "from sklearn.svm import LinearSVC\n",
    "from sklearn.base import TransformerMixin\n",
    "from sklearn.naive_bayes import GaussianNB\n",
    "from sklearn.model_selection import train_test_split\n",
    "from sklearn.preprocessing import FunctionTransformer\n",
    "from sklearn.pipeline import Pipeline\n",
    "from sklearn.compose import ColumnTransformer\n",
    "from sklearn.pipeline import make_pipeline, make_union\n",
    "from sklearn.feature_extraction.text import CountVectorizer"
   ]
  },
  {
   "cell_type": "markdown",
   "id": "04d2d848-9607-4db0-b4dd-ce6ea4fe57ad",
   "metadata": {},
   "source": [
    "## Prepare data"
   ]
  },
  {
   "cell_type": "markdown",
   "id": "c5330c25-259b-4c6f-a552-7b8c3c973c38",
   "metadata": {},
   "source": [
    "Read in our supervised dataset."
   ]
  },
  {
   "cell_type": "code",
   "execution_count": 4,
   "id": "f7d3a33c-7a42-4692-9f7f-021c3f4208aa",
   "metadata": {},
   "outputs": [],
   "source": [
    "input_path = pathlib.Path(\"\") / \"input\""
   ]
  },
  {
   "cell_type": "code",
   "execution_count": 5,
   "id": "56726a8b-f756-43c0-bf02-7db7e880f97e",
   "metadata": {},
   "outputs": [],
   "source": [
    "output_path = pathlib.Path(\"\") / \"output\""
   ]
  },
  {
   "cell_type": "code",
   "execution_count": 6,
   "id": "04f1558a-b8e4-4c18-9a9d-bb7405372e07",
   "metadata": {},
   "outputs": [],
   "source": [
    "labeled_df = pd.read_csv(\n",
    "    input_path / \"labeled.csv\",\n",
    "    dtype={\"is_story\": int, \"text\": str}\n",
    ")"
   ]
  },
  {
   "cell_type": "code",
   "execution_count": 7,
   "id": "6a8d2d53-c636-4bb8-b44e-495ba0a145a0",
   "metadata": {},
   "outputs": [
    {
     "name": "stdout",
     "output_type": "stream",
     "text": [
      "<class 'pandas.core.frame.DataFrame'>\n",
      "RangeIndex: 2891 entries, 0 to 2890\n",
      "Data columns (total 4 columns):\n",
      " #   Column    Non-Null Count  Dtype \n",
      "---  ------    --------------  ----- \n",
      " 0   text      2891 non-null   object\n",
      " 1   url       2891 non-null   object\n",
      " 2   handle    2891 non-null   object\n",
      " 3   is_story  2891 non-null   int64 \n",
      "dtypes: int64(1), object(3)\n",
      "memory usage: 90.5+ KB\n"
     ]
    }
   ],
   "source": [
    "labeled_df.info()"
   ]
  },
  {
   "cell_type": "code",
   "execution_count": 8,
   "id": "4da5c40d-8a85-40c3-99fa-9fbf30e5706b",
   "metadata": {},
   "outputs": [
    {
     "data": {
      "text/html": [
       "<div>\n",
       "<style scoped>\n",
       "    .dataframe tbody tr th:only-of-type {\n",
       "        vertical-align: middle;\n",
       "    }\n",
       "\n",
       "    .dataframe tbody tr th {\n",
       "        vertical-align: top;\n",
       "    }\n",
       "\n",
       "    .dataframe thead th {\n",
       "        text-align: right;\n",
       "    }\n",
       "</style>\n",
       "<table border=\"1\" class=\"dataframe\">\n",
       "  <thead>\n",
       "    <tr style=\"text-align: right;\">\n",
       "      <th></th>\n",
       "      <th>text</th>\n",
       "      <th>url</th>\n",
       "      <th>handle</th>\n",
       "      <th>is_story</th>\n",
       "    </tr>\n",
       "  </thead>\n",
       "  <tbody>\n",
       "    <tr>\n",
       "      <th>0</th>\n",
       "      <td>Trouble in Kenya's Flower Fields</td>\n",
       "      <td>https://100r.org/2017/12/trouble-in/</td>\n",
       "      <td>100reporters</td>\n",
       "      <td>1</td>\n",
       "    </tr>\n",
       "    <tr>\n",
       "      <th>1</th>\n",
       "      <td>Asylum for Sale Refugees Say Some U.N. Workers...</td>\n",
       "      <td>https://100r.org/2019/04/unhcr-corruption-refu...</td>\n",
       "      <td>100reporters</td>\n",
       "      <td>1</td>\n",
       "    </tr>\n",
       "    <tr>\n",
       "      <th>2</th>\n",
       "      <td>Documentaries as AdvertisingCorporate Interest...</td>\n",
       "      <td>https://100r.org/2019/12/documentaries-as-adve...</td>\n",
       "      <td>100reporters</td>\n",
       "      <td>1</td>\n",
       "    </tr>\n",
       "    <tr>\n",
       "      <th>3</th>\n",
       "      <td>Pandemic Drives Wave of Property Grabs in Zambia</td>\n",
       "      <td>https://100r.org/2020/12/propertygrabs/</td>\n",
       "      <td>100reporters</td>\n",
       "      <td>1</td>\n",
       "    </tr>\n",
       "    <tr>\n",
       "      <th>4</th>\n",
       "      <td>Did Industry Funding Influence an FDA Investig...</td>\n",
       "      <td>https://100r.org/2022/07/did-industry-funding-...</td>\n",
       "      <td>100reporters</td>\n",
       "      <td>1</td>\n",
       "    </tr>\n",
       "  </tbody>\n",
       "</table>\n",
       "</div>"
      ],
      "text/plain": [
       "                                                text  \\\n",
       "0                   Trouble in Kenya's Flower Fields   \n",
       "1  Asylum for Sale Refugees Say Some U.N. Workers...   \n",
       "2  Documentaries as AdvertisingCorporate Interest...   \n",
       "3   Pandemic Drives Wave of Property Grabs in Zambia   \n",
       "4  Did Industry Funding Influence an FDA Investig...   \n",
       "\n",
       "                                                 url        handle  is_story  \n",
       "0               https://100r.org/2017/12/trouble-in/  100reporters         1  \n",
       "1  https://100r.org/2019/04/unhcr-corruption-refu...  100reporters         1  \n",
       "2  https://100r.org/2019/12/documentaries-as-adve...  100reporters         1  \n",
       "3            https://100r.org/2020/12/propertygrabs/  100reporters         1  \n",
       "4  https://100r.org/2022/07/did-industry-funding-...  100reporters         1  "
      ]
     },
     "execution_count": 8,
     "metadata": {},
     "output_type": "execute_result"
    }
   ],
   "source": [
    "labeled_df.head()"
   ]
  },
  {
   "cell_type": "markdown",
   "id": "60150891-7302-4b9a-bab1-e8b81d1f1fc6",
   "metadata": {},
   "source": [
    "Extract the paths from the urls"
   ]
  },
  {
   "cell_type": "code",
   "execution_count": 9,
   "id": "7152cac7-623d-4ebc-bcd5-b70044e497c5",
   "metadata": {},
   "outputs": [],
   "source": [
    "labeled_df['path'] = labeled_df.url.apply(lambda x: urlparse(x).path)"
   ]
  },
  {
   "cell_type": "markdown",
   "id": "facf10b1-aa9c-4c05-8862-d57dd9a65778",
   "metadata": {},
   "source": [
    "Extract the domain"
   ]
  },
  {
   "cell_type": "code",
   "execution_count": 10,
   "id": "e724a7a9-ede5-47ee-b15d-8cb728169e35",
   "metadata": {},
   "outputs": [],
   "source": [
    "labeled_df['domain'] = labeled_df.url.apply(lambda x: tldextract.extract(x).domain)"
   ]
  },
  {
   "cell_type": "markdown",
   "id": "ddf42b56-2770-4e15-99b9-9a7f89ef20cf",
   "metadata": {},
   "source": [
    "Extract the subdomain"
   ]
  },
  {
   "cell_type": "code",
   "execution_count": 11,
   "id": "28fc4027-c15a-4cdc-a7e1-11eb92ebc9e4",
   "metadata": {},
   "outputs": [],
   "source": [
    "labeled_df['subdomain'] = labeled_df.url.apply(lambda x: tldextract.extract(x).subdomain)"
   ]
  },
  {
   "cell_type": "code",
   "execution_count": 12,
   "id": "a39a9361-669a-4eeb-8003-6dc966cd70a7",
   "metadata": {},
   "outputs": [
    {
     "data": {
      "text/html": [
       "<div>\n",
       "<style scoped>\n",
       "    .dataframe tbody tr th:only-of-type {\n",
       "        vertical-align: middle;\n",
       "    }\n",
       "\n",
       "    .dataframe tbody tr th {\n",
       "        vertical-align: top;\n",
       "    }\n",
       "\n",
       "    .dataframe thead th {\n",
       "        text-align: right;\n",
       "    }\n",
       "</style>\n",
       "<table border=\"1\" class=\"dataframe\">\n",
       "  <thead>\n",
       "    <tr style=\"text-align: right;\">\n",
       "      <th></th>\n",
       "      <th>text</th>\n",
       "      <th>url</th>\n",
       "      <th>handle</th>\n",
       "      <th>is_story</th>\n",
       "      <th>path</th>\n",
       "      <th>domain</th>\n",
       "      <th>subdomain</th>\n",
       "    </tr>\n",
       "  </thead>\n",
       "  <tbody>\n",
       "    <tr>\n",
       "      <th>0</th>\n",
       "      <td>Trouble in Kenya's Flower Fields</td>\n",
       "      <td>https://100r.org/2017/12/trouble-in/</td>\n",
       "      <td>100reporters</td>\n",
       "      <td>1</td>\n",
       "      <td>/2017/12/trouble-in/</td>\n",
       "      <td>100r</td>\n",
       "      <td></td>\n",
       "    </tr>\n",
       "    <tr>\n",
       "      <th>1</th>\n",
       "      <td>Asylum for Sale Refugees Say Some U.N. Workers...</td>\n",
       "      <td>https://100r.org/2019/04/unhcr-corruption-refu...</td>\n",
       "      <td>100reporters</td>\n",
       "      <td>1</td>\n",
       "      <td>/2019/04/unhcr-corruption-refugee-resettlement/</td>\n",
       "      <td>100r</td>\n",
       "      <td></td>\n",
       "    </tr>\n",
       "    <tr>\n",
       "      <th>2</th>\n",
       "      <td>Documentaries as AdvertisingCorporate Interest...</td>\n",
       "      <td>https://100r.org/2019/12/documentaries-as-adve...</td>\n",
       "      <td>100reporters</td>\n",
       "      <td>1</td>\n",
       "      <td>/2019/12/documentaries-as-advertising/</td>\n",
       "      <td>100r</td>\n",
       "      <td></td>\n",
       "    </tr>\n",
       "    <tr>\n",
       "      <th>3</th>\n",
       "      <td>Pandemic Drives Wave of Property Grabs in Zambia</td>\n",
       "      <td>https://100r.org/2020/12/propertygrabs/</td>\n",
       "      <td>100reporters</td>\n",
       "      <td>1</td>\n",
       "      <td>/2020/12/propertygrabs/</td>\n",
       "      <td>100r</td>\n",
       "      <td></td>\n",
       "    </tr>\n",
       "    <tr>\n",
       "      <th>4</th>\n",
       "      <td>Did Industry Funding Influence an FDA Investig...</td>\n",
       "      <td>https://100r.org/2022/07/did-industry-funding-...</td>\n",
       "      <td>100reporters</td>\n",
       "      <td>1</td>\n",
       "      <td>/2022/07/did-industry-funding-influence-an-fda...</td>\n",
       "      <td>100r</td>\n",
       "      <td></td>\n",
       "    </tr>\n",
       "  </tbody>\n",
       "</table>\n",
       "</div>"
      ],
      "text/plain": [
       "                                                text  \\\n",
       "0                   Trouble in Kenya's Flower Fields   \n",
       "1  Asylum for Sale Refugees Say Some U.N. Workers...   \n",
       "2  Documentaries as AdvertisingCorporate Interest...   \n",
       "3   Pandemic Drives Wave of Property Grabs in Zambia   \n",
       "4  Did Industry Funding Influence an FDA Investig...   \n",
       "\n",
       "                                                 url        handle  is_story  \\\n",
       "0               https://100r.org/2017/12/trouble-in/  100reporters         1   \n",
       "1  https://100r.org/2019/04/unhcr-corruption-refu...  100reporters         1   \n",
       "2  https://100r.org/2019/12/documentaries-as-adve...  100reporters         1   \n",
       "3            https://100r.org/2020/12/propertygrabs/  100reporters         1   \n",
       "4  https://100r.org/2022/07/did-industry-funding-...  100reporters         1   \n",
       "\n",
       "                                                path domain subdomain  \n",
       "0                               /2017/12/trouble-in/   100r            \n",
       "1    /2019/04/unhcr-corruption-refugee-resettlement/   100r            \n",
       "2             /2019/12/documentaries-as-advertising/   100r            \n",
       "3                            /2020/12/propertygrabs/   100r            \n",
       "4  /2022/07/did-industry-funding-influence-an-fda...   100r            "
      ]
     },
     "execution_count": 12,
     "metadata": {},
     "output_type": "execute_result"
    }
   ],
   "source": [
    "labeled_df.head()"
   ]
  },
  {
   "cell_type": "markdown",
   "id": "7b72185f-02b4-467d-9ac3-d5ef48ce19fc",
   "metadata": {},
   "source": [
    "Remove rows without a headline"
   ]
  },
  {
   "cell_type": "code",
   "execution_count": 13,
   "id": "68a8dcbb-7652-44f6-a5d7-06ef3f4254e1",
   "metadata": {},
   "outputs": [],
   "source": [
    "training_df = labeled_df[~(labeled_df.text == \"\")]"
   ]
  },
  {
   "cell_type": "markdown",
   "id": "28a13b7a-f641-4544-b183-fc3a8a682948",
   "metadata": {},
   "source": [
    "Remove blacklisted domains"
   ]
  },
  {
   "cell_type": "code",
   "execution_count": 14,
   "id": "756a473f-6929-42c7-a135-04011d1095f0",
   "metadata": {},
   "outputs": [],
   "source": [
    "DOMAIN_BLACKLIST = (\n",
    "    \"google\",\n",
    "    \"twitter\",\n",
    "    \"facebook\",\n",
    "    \"doubleclick\",\n",
    "    \"eventbrite\",\n",
    "    \"youtube\",\n",
    "    \"vimeo\",\n",
    "    \"instagram\",\n",
    "    \"ceros\",\n",
    ")"
   ]
  },
  {
   "cell_type": "code",
   "execution_count": 15,
   "id": "1e23f61a-ed7b-4411-bd12-e38f4c1fb3c9",
   "metadata": {},
   "outputs": [],
   "source": [
    "training_df = training_df[~(training_df.domain.isin(DOMAIN_BLACKLIST))]"
   ]
  },
  {
   "cell_type": "markdown",
   "id": "a6278b5e-fa08-495c-9444-267f45bc8cf7",
   "metadata": {},
   "source": [
    "Same for subdomain"
   ]
  },
  {
   "cell_type": "code",
   "execution_count": 16,
   "id": "940b818c-9327-4afa-9dda-22aebf3ddd21",
   "metadata": {},
   "outputs": [],
   "source": [
    "SUBDOMAIN_BLACKLIST = (\n",
    "    \"careers\",\n",
    "    \"mail\",\n",
    "    \"account\",\n",
    "    \"events\",\n",
    ")"
   ]
  },
  {
   "cell_type": "code",
   "execution_count": 17,
   "id": "ae49e31c-ebd2-4cb9-94ab-a4d3ba48e711",
   "metadata": {},
   "outputs": [],
   "source": [
    "training_df = training_df[~(training_df.subdomain.isin(SUBDOMAIN_BLACKLIST))]"
   ]
  },
  {
   "cell_type": "markdown",
   "id": "fa437c5c-daa9-406f-b90a-4f7d296a403e",
   "metadata": {},
   "source": [
    "Cut any duplicates"
   ]
  },
  {
   "cell_type": "code",
   "execution_count": 18,
   "id": "152dccac-fe09-4d62-b4a5-2b4b2d4ce226",
   "metadata": {},
   "outputs": [],
   "source": [
    "training_df.drop_duplicates(inplace=True)"
   ]
  },
  {
   "cell_type": "code",
   "execution_count": 19,
   "id": "08eba9e9-5054-46af-a8a9-28966c774a1a",
   "metadata": {},
   "outputs": [],
   "source": [
    "training_df[[\"text\", \"path\", \"is_story\"]].to_csv(\"output/prepared-data.csv\", index=False)"
   ]
  },
  {
   "cell_type": "markdown",
   "id": "58e0f522-6196-4e00-90f2-15ca9eee5244",
   "metadata": {},
   "source": [
    "## Train model"
   ]
  },
  {
   "cell_type": "code",
   "execution_count": 20,
   "id": "f3c2c3a8-97ec-4ff4-8da8-2371afcc2a12",
   "metadata": {},
   "outputs": [],
   "source": [
    "preprocessor = ColumnTransformer(\n",
    "    transformers=[\n",
    "        ('text', CountVectorizer(min_df=0.1, max_df=0.9, ngram_range=(1, 8), analyzer=\"char\"), 'text'),\n",
    "        ('path', CountVectorizer(min_df=0.1, max_df=0.9, ngram_range=(1, 8), analyzer=\"char\"), 'path')\n",
    "    ],\n",
    "    remainder='drop'  # Drop any columns not specified\n",
    ")"
   ]
  },
  {
   "cell_type": "code",
   "execution_count": 21,
   "id": "7ed3c654-697e-4eff-82c1-e3d4e4bec649",
   "metadata": {},
   "outputs": [],
   "source": [
    "pipeline = Pipeline([\n",
    "    ('preprocessor', preprocessor),\n",
    "    ('classifier', LinearSVC())\n",
    "])"
   ]
  },
  {
   "cell_type": "markdown",
   "id": "933323db-e974-4f13-91c5-751225a5fd10",
   "metadata": {},
   "source": [
    "Set our training set"
   ]
  },
  {
   "cell_type": "code",
   "execution_count": 22,
   "id": "cbb98f47-e750-4af1-9f53-bd549b1809b0",
   "metadata": {},
   "outputs": [],
   "source": [
    "X = training_df[['text', 'path']].fillna(\"\")\n",
    "y = training_df['is_story']"
   ]
  },
  {
   "cell_type": "code",
   "execution_count": 23,
   "id": "6e18904e-e8e4-4b7a-becd-66c9b5b32ad7",
   "metadata": {},
   "outputs": [],
   "source": [
    "X_train, X_test, y_train, y_test = train_test_split(\n",
    "    X,\n",
    "    y,\n",
    "    test_size=0.33,\n",
    "    random_state=42\n",
    ")"
   ]
  },
  {
   "cell_type": "code",
   "execution_count": 24,
   "id": "d574681c-bf6c-4bb5-b8c4-a3a4456d34f8",
   "metadata": {},
   "outputs": [
    {
     "ename": "ValueError",
     "evalue": "X does not contain any features, but ColumnTransformer is expecting 2 features",
     "output_type": "error",
     "traceback": [
      "\u001b[0;31m---------------------------------------------------------------------------\u001b[0m",
      "\u001b[0;31mTypeError\u001b[0m                                 Traceback (most recent call last)",
      "File \u001b[0;32m~/.local/share/virtualenvs/storysniffer-l_3GAGHq/lib/python3.11/site-packages/sklearn/base.py:420\u001b[0m, in \u001b[0;36mBaseEstimator._check_n_features\u001b[0;34m(self, X, reset)\u001b[0m\n\u001b[1;32m    419\u001b[0m \u001b[38;5;28;01mtry\u001b[39;00m:\n\u001b[0;32m--> 420\u001b[0m     n_features \u001b[38;5;241m=\u001b[39m \u001b[43m_num_features\u001b[49m\u001b[43m(\u001b[49m\u001b[43mX\u001b[49m\u001b[43m)\u001b[49m\n\u001b[1;32m    421\u001b[0m \u001b[38;5;28;01mexcept\u001b[39;00m \u001b[38;5;167;01mTypeError\u001b[39;00m \u001b[38;5;28;01mas\u001b[39;00m e:\n",
      "File \u001b[0;32m~/.local/share/virtualenvs/storysniffer-l_3GAGHq/lib/python3.11/site-packages/sklearn/utils/validation.py:345\u001b[0m, in \u001b[0;36m_num_features\u001b[0;34m(X)\u001b[0m\n\u001b[1;32m    344\u001b[0m     message \u001b[38;5;241m+\u001b[39m\u001b[38;5;241m=\u001b[39m \u001b[38;5;124mf\u001b[39m\u001b[38;5;124m\"\u001b[39m\u001b[38;5;124m with shape \u001b[39m\u001b[38;5;132;01m{\u001b[39;00mX\u001b[38;5;241m.\u001b[39mshape\u001b[38;5;132;01m}\u001b[39;00m\u001b[38;5;124m\"\u001b[39m\n\u001b[0;32m--> 345\u001b[0m     \u001b[38;5;28;01mraise\u001b[39;00m \u001b[38;5;167;01mTypeError\u001b[39;00m(message)\n\u001b[1;32m    346\u001b[0m \u001b[38;5;28;01mreturn\u001b[39;00m X\u001b[38;5;241m.\u001b[39mshape[\u001b[38;5;241m1\u001b[39m]\n",
      "\u001b[0;31mTypeError\u001b[0m: Unable to find the number of features from X of type pandas.core.series.Series with shape (937,)",
      "\nThe above exception was the direct cause of the following exception:\n",
      "\u001b[0;31mValueError\u001b[0m                                Traceback (most recent call last)",
      "Cell \u001b[0;32mIn[24], line 5\u001b[0m\n\u001b[1;32m      2\u001b[0m model \u001b[38;5;241m=\u001b[39m pipeline\u001b[38;5;241m.\u001b[39mfit(X_train, y_train)\n\u001b[1;32m      4\u001b[0m \u001b[38;5;66;03m# Test it\u001b[39;00m\n\u001b[0;32m----> 5\u001b[0m preds \u001b[38;5;241m=\u001b[39m \u001b[43mmodel\u001b[49m\u001b[38;5;241;43m.\u001b[39;49m\u001b[43mpredict\u001b[49m\u001b[43m(\u001b[49m\u001b[43my_test\u001b[49m\u001b[43m)\u001b[49m\n\u001b[1;32m      7\u001b[0m \u001b[38;5;66;03m# Print the test results\u001b[39;00m\n\u001b[1;32m      8\u001b[0m \u001b[38;5;28mprint\u001b[39m(metrics\u001b[38;5;241m.\u001b[39mclassification_report(y_train, preds))\n",
      "File \u001b[0;32m~/.local/share/virtualenvs/storysniffer-l_3GAGHq/lib/python3.11/site-packages/sklearn/pipeline.py:600\u001b[0m, in \u001b[0;36mPipeline.predict\u001b[0;34m(self, X, **params)\u001b[0m\n\u001b[1;32m    598\u001b[0m \u001b[38;5;28;01mif\u001b[39;00m \u001b[38;5;129;01mnot\u001b[39;00m _routing_enabled():\n\u001b[1;32m    599\u001b[0m     \u001b[38;5;28;01mfor\u001b[39;00m _, name, transform \u001b[38;5;129;01min\u001b[39;00m \u001b[38;5;28mself\u001b[39m\u001b[38;5;241m.\u001b[39m_iter(with_final\u001b[38;5;241m=\u001b[39m\u001b[38;5;28;01mFalse\u001b[39;00m):\n\u001b[0;32m--> 600\u001b[0m         Xt \u001b[38;5;241m=\u001b[39m \u001b[43mtransform\u001b[49m\u001b[38;5;241;43m.\u001b[39;49m\u001b[43mtransform\u001b[49m\u001b[43m(\u001b[49m\u001b[43mXt\u001b[49m\u001b[43m)\u001b[49m\n\u001b[1;32m    601\u001b[0m     \u001b[38;5;28;01mreturn\u001b[39;00m \u001b[38;5;28mself\u001b[39m\u001b[38;5;241m.\u001b[39msteps[\u001b[38;5;241m-\u001b[39m\u001b[38;5;241m1\u001b[39m][\u001b[38;5;241m1\u001b[39m]\u001b[38;5;241m.\u001b[39mpredict(Xt, \u001b[38;5;241m*\u001b[39m\u001b[38;5;241m*\u001b[39mparams)\n\u001b[1;32m    603\u001b[0m \u001b[38;5;66;03m# metadata routing enabled\u001b[39;00m\n",
      "File \u001b[0;32m~/.local/share/virtualenvs/storysniffer-l_3GAGHq/lib/python3.11/site-packages/sklearn/utils/_set_output.py:313\u001b[0m, in \u001b[0;36m_wrap_method_output.<locals>.wrapped\u001b[0;34m(self, X, *args, **kwargs)\u001b[0m\n\u001b[1;32m    311\u001b[0m \u001b[38;5;129m@wraps\u001b[39m(f)\n\u001b[1;32m    312\u001b[0m \u001b[38;5;28;01mdef\u001b[39;00m \u001b[38;5;21mwrapped\u001b[39m(\u001b[38;5;28mself\u001b[39m, X, \u001b[38;5;241m*\u001b[39margs, \u001b[38;5;241m*\u001b[39m\u001b[38;5;241m*\u001b[39mkwargs):\n\u001b[0;32m--> 313\u001b[0m     data_to_wrap \u001b[38;5;241m=\u001b[39m \u001b[43mf\u001b[49m\u001b[43m(\u001b[49m\u001b[38;5;28;43mself\u001b[39;49m\u001b[43m,\u001b[49m\u001b[43m \u001b[49m\u001b[43mX\u001b[49m\u001b[43m,\u001b[49m\u001b[43m \u001b[49m\u001b[38;5;241;43m*\u001b[39;49m\u001b[43margs\u001b[49m\u001b[43m,\u001b[49m\u001b[43m \u001b[49m\u001b[38;5;241;43m*\u001b[39;49m\u001b[38;5;241;43m*\u001b[39;49m\u001b[43mkwargs\u001b[49m\u001b[43m)\u001b[49m\n\u001b[1;32m    314\u001b[0m     \u001b[38;5;28;01mif\u001b[39;00m \u001b[38;5;28misinstance\u001b[39m(data_to_wrap, \u001b[38;5;28mtuple\u001b[39m):\n\u001b[1;32m    315\u001b[0m         \u001b[38;5;66;03m# only wrap the first output for cross decomposition\u001b[39;00m\n\u001b[1;32m    316\u001b[0m         return_tuple \u001b[38;5;241m=\u001b[39m (\n\u001b[1;32m    317\u001b[0m             _wrap_data_with_container(method, data_to_wrap[\u001b[38;5;241m0\u001b[39m], X, \u001b[38;5;28mself\u001b[39m),\n\u001b[1;32m    318\u001b[0m             \u001b[38;5;241m*\u001b[39mdata_to_wrap[\u001b[38;5;241m1\u001b[39m:],\n\u001b[1;32m    319\u001b[0m         )\n",
      "File \u001b[0;32m~/.local/share/virtualenvs/storysniffer-l_3GAGHq/lib/python3.11/site-packages/sklearn/compose/_column_transformer.py:1069\u001b[0m, in \u001b[0;36mColumnTransformer.transform\u001b[0;34m(self, X, **params)\u001b[0m\n\u001b[1;32m   1065\u001b[0m         \u001b[38;5;28;01mraise\u001b[39;00m \u001b[38;5;167;01mValueError\u001b[39;00m(\u001b[38;5;124mf\u001b[39m\u001b[38;5;124m\"\u001b[39m\u001b[38;5;124mcolumns are missing: \u001b[39m\u001b[38;5;132;01m{\u001b[39;00mdiff\u001b[38;5;132;01m}\u001b[39;00m\u001b[38;5;124m\"\u001b[39m)\n\u001b[1;32m   1066\u001b[0m \u001b[38;5;28;01melse\u001b[39;00m:\n\u001b[1;32m   1067\u001b[0m     \u001b[38;5;66;03m# ndarray was used for fitting or transforming, thus we only\u001b[39;00m\n\u001b[1;32m   1068\u001b[0m     \u001b[38;5;66;03m# check that n_features_in_ is consistent\u001b[39;00m\n\u001b[0;32m-> 1069\u001b[0m     \u001b[38;5;28;43mself\u001b[39;49m\u001b[38;5;241;43m.\u001b[39;49m\u001b[43m_check_n_features\u001b[49m\u001b[43m(\u001b[49m\u001b[43mX\u001b[49m\u001b[43m,\u001b[49m\u001b[43m \u001b[49m\u001b[43mreset\u001b[49m\u001b[38;5;241;43m=\u001b[39;49m\u001b[38;5;28;43;01mFalse\u001b[39;49;00m\u001b[43m)\u001b[49m\n\u001b[1;32m   1071\u001b[0m \u001b[38;5;28;01mif\u001b[39;00m _routing_enabled():\n\u001b[1;32m   1072\u001b[0m     routed_params \u001b[38;5;241m=\u001b[39m process_routing(\u001b[38;5;28mself\u001b[39m, \u001b[38;5;124m\"\u001b[39m\u001b[38;5;124mtransform\u001b[39m\u001b[38;5;124m\"\u001b[39m, \u001b[38;5;241m*\u001b[39m\u001b[38;5;241m*\u001b[39mparams)\n",
      "File \u001b[0;32m~/.local/share/virtualenvs/storysniffer-l_3GAGHq/lib/python3.11/site-packages/sklearn/base.py:423\u001b[0m, in \u001b[0;36mBaseEstimator._check_n_features\u001b[0;34m(self, X, reset)\u001b[0m\n\u001b[1;32m    421\u001b[0m \u001b[38;5;28;01mexcept\u001b[39;00m \u001b[38;5;167;01mTypeError\u001b[39;00m \u001b[38;5;28;01mas\u001b[39;00m e:\n\u001b[1;32m    422\u001b[0m     \u001b[38;5;28;01mif\u001b[39;00m \u001b[38;5;129;01mnot\u001b[39;00m reset \u001b[38;5;129;01mand\u001b[39;00m \u001b[38;5;28mhasattr\u001b[39m(\u001b[38;5;28mself\u001b[39m, \u001b[38;5;124m\"\u001b[39m\u001b[38;5;124mn_features_in_\u001b[39m\u001b[38;5;124m\"\u001b[39m):\n\u001b[0;32m--> 423\u001b[0m         \u001b[38;5;28;01mraise\u001b[39;00m \u001b[38;5;167;01mValueError\u001b[39;00m(\n\u001b[1;32m    424\u001b[0m             \u001b[38;5;124m\"\u001b[39m\u001b[38;5;124mX does not contain any features, but \u001b[39m\u001b[38;5;124m\"\u001b[39m\n\u001b[1;32m    425\u001b[0m             \u001b[38;5;124mf\u001b[39m\u001b[38;5;124m\"\u001b[39m\u001b[38;5;132;01m{\u001b[39;00m\u001b[38;5;28mself\u001b[39m\u001b[38;5;241m.\u001b[39m\u001b[38;5;18m__class__\u001b[39m\u001b[38;5;241m.\u001b[39m\u001b[38;5;18m__name__\u001b[39m\u001b[38;5;132;01m}\u001b[39;00m\u001b[38;5;124m is expecting \u001b[39m\u001b[38;5;124m\"\u001b[39m\n\u001b[1;32m    426\u001b[0m             \u001b[38;5;124mf\u001b[39m\u001b[38;5;124m\"\u001b[39m\u001b[38;5;132;01m{\u001b[39;00m\u001b[38;5;28mself\u001b[39m\u001b[38;5;241m.\u001b[39mn_features_in_\u001b[38;5;132;01m}\u001b[39;00m\u001b[38;5;124m features\u001b[39m\u001b[38;5;124m\"\u001b[39m\n\u001b[1;32m    427\u001b[0m         ) \u001b[38;5;28;01mfrom\u001b[39;00m \u001b[38;5;21;01me\u001b[39;00m\n\u001b[1;32m    428\u001b[0m     \u001b[38;5;66;03m# If the number of features is not defined and reset=True,\u001b[39;00m\n\u001b[1;32m    429\u001b[0m     \u001b[38;5;66;03m# then we skip this check\u001b[39;00m\n\u001b[1;32m    430\u001b[0m     \u001b[38;5;28;01mreturn\u001b[39;00m\n",
      "\u001b[0;31mValueError\u001b[0m: X does not contain any features, but ColumnTransformer is expecting 2 features"
     ]
    }
   ],
   "source": [
    "# Fit the pipeline on the training data\n",
    "model = pipeline.fit(X_train, y_train)\n",
    "\n",
    "# Test it\n",
    "preds = model.predict(y_test)\n",
    "\n",
    "# Print the test results\n",
    "print(metrics.classification_report(y_train, preds))"
   ]
  },
  {
   "cell_type": "markdown",
   "id": "df35f09f-dff1-48b2-869f-55ecf838ba6b",
   "metadata": {},
   "source": [
    "Create a model that uses both fields."
   ]
  },
  {
   "cell_type": "code",
   "execution_count": 42,
   "id": "7d2b1203-ab68-4910-b0fc-8ae6ec521ba9",
   "metadata": {},
   "outputs": [],
   "source": [
    "def get_path_and_text_model():\n",
    "    \"\"\"Create a model that uses both the `path` and `text` fields.\"\"\"\n",
    "    # Create a pipeline that pulls in both fields\n",
    "    pipe = make_pipeline(\n",
    "        make_union(text_transformer, path_transformer),\n",
    "        GaussianNB()\n",
    "    )\n",
    "    \n",
    "    # Train it\n",
    "    model = pipe.fit(X_train.todense(), y_train)\n",
    "    \n",
    "    # Test it\n",
    "    preds = model.predict(test)\n",
    "    \n",
    "    # Print the test results\n",
    "    print(metrics.classification_report(test_labels, preds))\n",
    "\n",
    "    # Return it\n",
    "    return model"
   ]
  },
  {
   "cell_type": "code",
   "execution_count": 43,
   "id": "0186e6b8-c5ae-4eeb-a475-5ac0ec8f65ca",
   "metadata": {},
   "outputs": [
    {
     "ename": "AttributeError",
     "evalue": "'DataFrame' object has no attribute 'todense'",
     "output_type": "error",
     "traceback": [
      "\u001b[0;31m---------------------------------------------------------------------------\u001b[0m",
      "\u001b[0;31mAttributeError\u001b[0m                            Traceback (most recent call last)",
      "\u001b[0;32m/var/folders/1z/m0f0jznn4j57tcgm0v3bgxkc0000gp/T/ipykernel_67351/3488426492.py\u001b[0m in \u001b[0;36m?\u001b[0;34m()\u001b[0m\n\u001b[0;32m----> 1\u001b[0;31m \u001b[0mpath_and_text_model\u001b[0m \u001b[0;34m=\u001b[0m \u001b[0mget_path_and_text_model\u001b[0m\u001b[0;34m(\u001b[0m\u001b[0;34m)\u001b[0m\u001b[0;34m\u001b[0m\u001b[0;34m\u001b[0m\u001b[0m\n\u001b[0m",
      "\u001b[0;32m/var/folders/1z/m0f0jznn4j57tcgm0v3bgxkc0000gp/T/ipykernel_67351/1833139816.py\u001b[0m in \u001b[0;36m?\u001b[0;34m()\u001b[0m\n\u001b[1;32m      6\u001b[0m         \u001b[0mGaussianNB\u001b[0m\u001b[0;34m(\u001b[0m\u001b[0;34m)\u001b[0m\u001b[0;34m\u001b[0m\u001b[0;34m\u001b[0m\u001b[0m\n\u001b[1;32m      7\u001b[0m     )\n\u001b[1;32m      8\u001b[0m \u001b[0;34m\u001b[0m\u001b[0m\n\u001b[1;32m      9\u001b[0m     \u001b[0;31m# Train it\u001b[0m\u001b[0;34m\u001b[0m\u001b[0;34m\u001b[0m\u001b[0m\n\u001b[0;32m---> 10\u001b[0;31m     \u001b[0mmodel\u001b[0m \u001b[0;34m=\u001b[0m \u001b[0mpipe\u001b[0m\u001b[0;34m.\u001b[0m\u001b[0mfit\u001b[0m\u001b[0;34m(\u001b[0m\u001b[0mX_train\u001b[0m\u001b[0;34m.\u001b[0m\u001b[0mtodense\u001b[0m\u001b[0;34m(\u001b[0m\u001b[0;34m)\u001b[0m\u001b[0;34m,\u001b[0m \u001b[0my_train\u001b[0m\u001b[0;34m)\u001b[0m\u001b[0;34m\u001b[0m\u001b[0;34m\u001b[0m\u001b[0m\n\u001b[0m\u001b[1;32m     11\u001b[0m \u001b[0;34m\u001b[0m\u001b[0m\n\u001b[1;32m     12\u001b[0m     \u001b[0;31m# Test it\u001b[0m\u001b[0;34m\u001b[0m\u001b[0;34m\u001b[0m\u001b[0m\n\u001b[1;32m     13\u001b[0m     \u001b[0mpreds\u001b[0m \u001b[0;34m=\u001b[0m \u001b[0mmodel\u001b[0m\u001b[0;34m.\u001b[0m\u001b[0mpredict\u001b[0m\u001b[0;34m(\u001b[0m\u001b[0mtest\u001b[0m\u001b[0;34m)\u001b[0m\u001b[0;34m\u001b[0m\u001b[0;34m\u001b[0m\u001b[0m\n",
      "\u001b[0;32m~/.local/share/virtualenvs/storysniffer-l_3GAGHq/lib/python3.11/site-packages/pandas/core/generic.py\u001b[0m in \u001b[0;36m?\u001b[0;34m(self, name)\u001b[0m\n\u001b[1;32m   6295\u001b[0m             \u001b[0;32mand\u001b[0m \u001b[0mname\u001b[0m \u001b[0;32mnot\u001b[0m \u001b[0;32min\u001b[0m \u001b[0mself\u001b[0m\u001b[0;34m.\u001b[0m\u001b[0m_accessors\u001b[0m\u001b[0;34m\u001b[0m\u001b[0;34m\u001b[0m\u001b[0m\n\u001b[1;32m   6296\u001b[0m             \u001b[0;32mand\u001b[0m \u001b[0mself\u001b[0m\u001b[0;34m.\u001b[0m\u001b[0m_info_axis\u001b[0m\u001b[0;34m.\u001b[0m\u001b[0m_can_hold_identifiers_and_holds_name\u001b[0m\u001b[0;34m(\u001b[0m\u001b[0mname\u001b[0m\u001b[0;34m)\u001b[0m\u001b[0;34m\u001b[0m\u001b[0;34m\u001b[0m\u001b[0m\n\u001b[1;32m   6297\u001b[0m         ):\n\u001b[1;32m   6298\u001b[0m             \u001b[0;32mreturn\u001b[0m \u001b[0mself\u001b[0m\u001b[0;34m[\u001b[0m\u001b[0mname\u001b[0m\u001b[0;34m]\u001b[0m\u001b[0;34m\u001b[0m\u001b[0;34m\u001b[0m\u001b[0m\n\u001b[0;32m-> 6299\u001b[0;31m         \u001b[0;32mreturn\u001b[0m \u001b[0mobject\u001b[0m\u001b[0;34m.\u001b[0m\u001b[0m__getattribute__\u001b[0m\u001b[0;34m(\u001b[0m\u001b[0mself\u001b[0m\u001b[0;34m,\u001b[0m \u001b[0mname\u001b[0m\u001b[0;34m)\u001b[0m\u001b[0;34m\u001b[0m\u001b[0;34m\u001b[0m\u001b[0m\n\u001b[0m",
      "\u001b[0;31mAttributeError\u001b[0m: 'DataFrame' object has no attribute 'todense'"
     ]
    }
   ],
   "source": [
    "path_and_text_model = get_path_and_text_model()"
   ]
  },
  {
   "cell_type": "markdown",
   "id": "30b48bc3-0953-4a69-8b28-e4ed1e088062",
   "metadata": {},
   "source": [
    "Create a model that uses only the path field."
   ]
  },
  {
   "cell_type": "code",
   "execution_count": 27,
   "id": "56ae01f7-a529-4b2a-8eec-d4da0ee05ad3",
   "metadata": {},
   "outputs": [],
   "source": [
    "def get_path_only_model():\n",
    "    \"\"\"Create a model that uses only the `path` field.\"\"\"\n",
    "    # Create a pipeline that pulls just that field\n",
    "    pipe = make_pipeline(path_transformer, GaussianNB())\n",
    "    \n",
    "    # Train it\n",
    "    model = pipe.fit(train, train_labels)\n",
    "    \n",
    "    # Test it\n",
    "    preds = model.predict(test)\n",
    "    \n",
    "    # Print the test results\n",
    "    print(metrics.classification_report(test_labels, preds))\n",
    "\n",
    "    # Return it\n",
    "    return model"
   ]
  },
  {
   "cell_type": "code",
   "execution_count": 28,
   "id": "b2da13dd-bce0-4fad-944a-cb1acf09248b",
   "metadata": {},
   "outputs": [
    {
     "name": "stdout",
     "output_type": "stream",
     "text": [
      "              precision    recall  f1-score   support\n",
      "\n",
      "           0       0.94      0.94      0.94       539\n",
      "           1       0.92      0.92      0.92       398\n",
      "\n",
      "    accuracy                           0.93       937\n",
      "   macro avg       0.93      0.93      0.93       937\n",
      "weighted avg       0.93      0.93      0.93       937\n",
      "\n"
     ]
    }
   ],
   "source": [
    "path_only_model = get_path_only_model()"
   ]
  },
  {
   "cell_type": "markdown",
   "id": "608b1b2f-306e-4689-87a5-7aac3e046e56",
   "metadata": {},
   "source": [
    "## Review"
   ]
  },
  {
   "cell_type": "code",
   "execution_count": 29,
   "id": "0adee747-b8e0-4e49-af57-6647ece819f5",
   "metadata": {},
   "outputs": [],
   "source": [
    "example = [\n",
    "    dict(path=\"/2019/04/unhcr-corruption-refugee-resettlement/\", text=\"This is a headline\"),\n",
    "    dict(path=\"/\", text=\"Homepage\")\n",
    "]"
   ]
  },
  {
   "cell_type": "code",
   "execution_count": 30,
   "id": "81cb4f78-0437-4137-9abd-4c1126e30ddf",
   "metadata": {},
   "outputs": [
    {
     "data": {
      "text/plain": [
       "array([1, 0])"
      ]
     },
     "execution_count": 30,
     "metadata": {},
     "output_type": "execute_result"
    }
   ],
   "source": [
    "path_and_text_model.predict(example)"
   ]
  },
  {
   "cell_type": "code",
   "execution_count": 31,
   "id": "ee2d1edf-0fff-453b-abc9-b439e0f0dae0",
   "metadata": {},
   "outputs": [
    {
     "data": {
      "text/plain": [
       "array([1, 0])"
      ]
     },
     "execution_count": 31,
     "metadata": {},
     "output_type": "execute_result"
    }
   ],
   "source": [
    "path_only_model.predict(example)"
   ]
  },
  {
   "cell_type": "markdown",
   "id": "312293bd-36f3-4047-b6c2-660c6f278faa",
   "metadata": {},
   "source": [
    "## Export"
   ]
  },
  {
   "cell_type": "markdown",
   "id": "cde2bbfb-a81d-4f47-af35-cdcabcf409a9",
   "metadata": {},
   "source": [
    "Save the models as pickles"
   ]
  },
  {
   "cell_type": "code",
   "execution_count": 33,
   "id": "4b62a036-6e86-4e8e-8422-fa8abf5eb3ea",
   "metadata": {},
   "outputs": [],
   "source": [
    "skops.io.dump(path_and_text_model, output_path / \"path-and-text-model.skops\")"
   ]
  },
  {
   "cell_type": "code",
   "execution_count": 34,
   "id": "397ab2f0-8219-4067-84ec-3c66fac81418",
   "metadata": {},
   "outputs": [],
   "source": [
    "skops.io.dump(path_only_model, output_path / \"path-only-model.pickle\")"
   ]
  }
 ],
 "metadata": {
  "kernelspec": {
   "display_name": "Python 3 (ipykernel)",
   "language": "python",
   "name": "python3"
  },
  "language_info": {
   "codemirror_mode": {
    "name": "ipython",
    "version": 3
   },
   "file_extension": ".py",
   "mimetype": "text/x-python",
   "name": "python",
   "nbconvert_exporter": "python",
   "pygments_lexer": "ipython3",
   "version": "3.11.3"
  }
 },
 "nbformat": 4,
 "nbformat_minor": 5
}
