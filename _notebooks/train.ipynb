{
 "cells": [
  {
   "cell_type": "markdown",
   "id": "a72bd8f4-b725-4ccd-9845-40eaf3b2a818",
   "metadata": {},
   "source": [
    "# Train\n",
    "\n",
    "Creating and testing machine learning models"
   ]
  },
  {
   "cell_type": "markdown",
   "id": "d60613e7-6fb4-4e4d-bf12-2adea738ed74",
   "metadata": {},
   "source": [
    "## Import\n",
    "\n",
    "Bring in standard Python tools"
   ]
  },
  {
   "cell_type": "code",
   "execution_count": 31,
   "id": "57c51c5d-289c-4b49-990f-a17dfe86449b",
   "metadata": {},
   "outputs": [],
   "source": [
    "import pickle\n",
    "import pathlib\n",
    "from urllib.parse import urlparse"
   ]
  },
  {
   "cell_type": "markdown",
   "id": "c8a2f0f5-37b0-4423-a917-93678f9d843a",
   "metadata": {},
   "source": [
    "Third-party data libraries"
   ]
  },
  {
   "cell_type": "code",
   "execution_count": null,
   "id": "ee121ac2-2a7e-4872-8ef3-f4084ec8106c",
   "metadata": {},
   "outputs": [],
   "source": [
    "import tldextract\n",
    "import numpy as np\n",
    "import pandas as pd"
   ]
  },
  {
   "cell_type": "markdown",
   "id": "8751205a-5a1b-4ecb-a573-431116b7f156",
   "metadata": {},
   "source": [
    "Machine learning gear"
   ]
  },
  {
   "cell_type": "code",
   "execution_count": 32,
   "id": "c0123738-a33d-4755-b1c9-0b052b1a4ca6",
   "metadata": {},
   "outputs": [],
   "source": [
    "from sklearn import metrics\n",
    "from sklearn.naive_bayes import GaussianNB\n",
    "from sklearn.model_selection import train_test_split\n",
    "from sklearn.feature_extraction.text import CountVectorizer"
   ]
  },
  {
   "cell_type": "markdown",
   "id": "04d2d848-9607-4db0-b4dd-ce6ea4fe57ad",
   "metadata": {},
   "source": [
    "## Prepare data"
   ]
  },
  {
   "cell_type": "markdown",
   "id": "c5330c25-259b-4c6f-a552-7b8c3c973c38",
   "metadata": {},
   "source": [
    "Read in our supervised dataset."
   ]
  },
  {
   "cell_type": "code",
   "execution_count": 2,
   "id": "f7d3a33c-7a42-4692-9f7f-021c3f4208aa",
   "metadata": {},
   "outputs": [],
   "source": [
    "input_path = pathlib.Path(\"\") / \"input\""
   ]
  },
  {
   "cell_type": "code",
   "execution_count": 3,
   "id": "56726a8b-f756-43c0-bf02-7db7e880f97e",
   "metadata": {},
   "outputs": [],
   "source": [
    "output_path = pathlib.Path(\"\") / \"output\""
   ]
  },
  {
   "cell_type": "code",
   "execution_count": 4,
   "id": "04f1558a-b8e4-4c18-9a9d-bb7405372e07",
   "metadata": {},
   "outputs": [],
   "source": [
    "labeled_df = pd.read_csv(input_path / \"labeled.csv\", dtype={\"is_story\": int})"
   ]
  },
  {
   "cell_type": "code",
   "execution_count": 5,
   "id": "6a8d2d53-c636-4bb8-b44e-495ba0a145a0",
   "metadata": {},
   "outputs": [
    {
     "name": "stdout",
     "output_type": "stream",
     "text": [
      "<class 'pandas.core.frame.DataFrame'>\n",
      "RangeIndex: 1288 entries, 0 to 1287\n",
      "Data columns (total 4 columns):\n",
      " #   Column    Non-Null Count  Dtype \n",
      "---  ------    --------------  ----- \n",
      " 0   text      1288 non-null   object\n",
      " 1   url       1288 non-null   object\n",
      " 2   handle    1288 non-null   object\n",
      " 3   is_story  1288 non-null   int64 \n",
      "dtypes: int64(1), object(3)\n",
      "memory usage: 40.4+ KB\n"
     ]
    }
   ],
   "source": [
    "labeled_df.info()"
   ]
  },
  {
   "cell_type": "code",
   "execution_count": 6,
   "id": "4da5c40d-8a85-40c3-99fa-9fbf30e5706b",
   "metadata": {},
   "outputs": [
    {
     "data": {
      "text/html": [
       "<div>\n",
       "<style scoped>\n",
       "    .dataframe tbody tr th:only-of-type {\n",
       "        vertical-align: middle;\n",
       "    }\n",
       "\n",
       "    .dataframe tbody tr th {\n",
       "        vertical-align: top;\n",
       "    }\n",
       "\n",
       "    .dataframe thead th {\n",
       "        text-align: right;\n",
       "    }\n",
       "</style>\n",
       "<table border=\"1\" class=\"dataframe\">\n",
       "  <thead>\n",
       "    <tr style=\"text-align: right;\">\n",
       "      <th></th>\n",
       "      <th>text</th>\n",
       "      <th>url</th>\n",
       "      <th>handle</th>\n",
       "      <th>is_story</th>\n",
       "    </tr>\n",
       "  </thead>\n",
       "  <tbody>\n",
       "    <tr>\n",
       "      <th>0</th>\n",
       "      <td>About Us</td>\n",
       "      <td>https://100r.org/about/</td>\n",
       "      <td>100reporters</td>\n",
       "      <td>0</td>\n",
       "    </tr>\n",
       "    <tr>\n",
       "      <th>1</th>\n",
       "      <td>Asylum for Sale Refugees Say Some U.N. Workers...</td>\n",
       "      <td>https://100r.org/2019/04/unhcr-corruption-refu...</td>\n",
       "      <td>100reporters</td>\n",
       "      <td>1</td>\n",
       "    </tr>\n",
       "    <tr>\n",
       "      <th>2</th>\n",
       "      <td>Central/Eastern Europe</td>\n",
       "      <td>https://100r.org/about/the-reporters/central-e...</td>\n",
       "      <td>100reporters</td>\n",
       "      <td>0</td>\n",
       "    </tr>\n",
       "    <tr>\n",
       "      <th>3</th>\n",
       "      <td>Diana Jean Schemo</td>\n",
       "      <td>https://100r.org/author/diana/</td>\n",
       "      <td>100reporters</td>\n",
       "      <td>0</td>\n",
       "    </tr>\n",
       "    <tr>\n",
       "      <th>4</th>\n",
       "      <td>Did Industry Funding Influence an FDA Investig...</td>\n",
       "      <td>https://100r.org/2022/07/did-industry-funding-...</td>\n",
       "      <td>100reporters</td>\n",
       "      <td>1</td>\n",
       "    </tr>\n",
       "  </tbody>\n",
       "</table>\n",
       "</div>"
      ],
      "text/plain": [
       "                                                text  \\\n",
       "0                                           About Us   \n",
       "1  Asylum for Sale Refugees Say Some U.N. Workers...   \n",
       "2                             Central/Eastern Europe   \n",
       "3                                  Diana Jean Schemo   \n",
       "4  Did Industry Funding Influence an FDA Investig...   \n",
       "\n",
       "                                                 url        handle  is_story  \n",
       "0                            https://100r.org/about/  100reporters         0  \n",
       "1  https://100r.org/2019/04/unhcr-corruption-refu...  100reporters         1  \n",
       "2  https://100r.org/about/the-reporters/central-e...  100reporters         0  \n",
       "3                     https://100r.org/author/diana/  100reporters         0  \n",
       "4  https://100r.org/2022/07/did-industry-funding-...  100reporters         1  "
      ]
     },
     "execution_count": 6,
     "metadata": {},
     "output_type": "execute_result"
    }
   ],
   "source": [
    "labeled_df.head()"
   ]
  },
  {
   "cell_type": "markdown",
   "id": "a4385216-0051-461f-a339-d17715ed218d",
   "metadata": {},
   "source": [
    "Tidy the headline field"
   ]
  },
  {
   "cell_type": "code",
   "execution_count": 7,
   "id": "0fdc1a99-2a29-4dca-adcb-65df8144fde5",
   "metadata": {},
   "outputs": [],
   "source": [
    "def tidy_text(t):\n",
    "    return t.strip()"
   ]
  },
  {
   "cell_type": "code",
   "execution_count": 8,
   "id": "6dc9a1c7-5028-43c0-b9e2-86b4e90548b7",
   "metadata": {},
   "outputs": [],
   "source": [
    "labeled_df['text'] = labeled_df.text.apply(tidy_text)"
   ]
  },
  {
   "cell_type": "markdown",
   "id": "60150891-7302-4b9a-bab1-e8b81d1f1fc6",
   "metadata": {},
   "source": [
    "Extract the paths from the urls"
   ]
  },
  {
   "cell_type": "code",
   "execution_count": 9,
   "id": "7152cac7-623d-4ebc-bcd5-b70044e497c5",
   "metadata": {},
   "outputs": [],
   "source": [
    "labeled_df['path'] = labeled_df.url.apply(lambda x: urlparse(x).path)"
   ]
  },
  {
   "cell_type": "markdown",
   "id": "facf10b1-aa9c-4c05-8862-d57dd9a65778",
   "metadata": {},
   "source": [
    "Extract the domain"
   ]
  },
  {
   "cell_type": "code",
   "execution_count": 10,
   "id": "e724a7a9-ede5-47ee-b15d-8cb728169e35",
   "metadata": {},
   "outputs": [],
   "source": [
    "labeled_df['domain'] = labeled_df.url.apply(lambda x: tldextract.extract(x).domain)"
   ]
  },
  {
   "cell_type": "markdown",
   "id": "ddf42b56-2770-4e15-99b9-9a7f89ef20cf",
   "metadata": {},
   "source": [
    "Extract the subdomain"
   ]
  },
  {
   "cell_type": "code",
   "execution_count": 11,
   "id": "28fc4027-c15a-4cdc-a7e1-11eb92ebc9e4",
   "metadata": {},
   "outputs": [],
   "source": [
    "labeled_df['subdomain'] = labeled_df.url.apply(lambda x: tldextract.extract(x).subdomain)"
   ]
  },
  {
   "cell_type": "code",
   "execution_count": 12,
   "id": "a39a9361-669a-4eeb-8003-6dc966cd70a7",
   "metadata": {},
   "outputs": [
    {
     "data": {
      "text/html": [
       "<div>\n",
       "<style scoped>\n",
       "    .dataframe tbody tr th:only-of-type {\n",
       "        vertical-align: middle;\n",
       "    }\n",
       "\n",
       "    .dataframe tbody tr th {\n",
       "        vertical-align: top;\n",
       "    }\n",
       "\n",
       "    .dataframe thead th {\n",
       "        text-align: right;\n",
       "    }\n",
       "</style>\n",
       "<table border=\"1\" class=\"dataframe\">\n",
       "  <thead>\n",
       "    <tr style=\"text-align: right;\">\n",
       "      <th></th>\n",
       "      <th>text</th>\n",
       "      <th>url</th>\n",
       "      <th>handle</th>\n",
       "      <th>is_story</th>\n",
       "      <th>path</th>\n",
       "      <th>domain</th>\n",
       "      <th>subdomain</th>\n",
       "    </tr>\n",
       "  </thead>\n",
       "  <tbody>\n",
       "    <tr>\n",
       "      <th>0</th>\n",
       "      <td>About Us</td>\n",
       "      <td>https://100r.org/about/</td>\n",
       "      <td>100reporters</td>\n",
       "      <td>0</td>\n",
       "      <td>/about/</td>\n",
       "      <td>100r</td>\n",
       "      <td></td>\n",
       "    </tr>\n",
       "    <tr>\n",
       "      <th>1</th>\n",
       "      <td>Asylum for Sale Refugees Say Some U.N. Workers...</td>\n",
       "      <td>https://100r.org/2019/04/unhcr-corruption-refu...</td>\n",
       "      <td>100reporters</td>\n",
       "      <td>1</td>\n",
       "      <td>/2019/04/unhcr-corruption-refugee-resettlement/</td>\n",
       "      <td>100r</td>\n",
       "      <td></td>\n",
       "    </tr>\n",
       "    <tr>\n",
       "      <th>2</th>\n",
       "      <td>Central/Eastern Europe</td>\n",
       "      <td>https://100r.org/about/the-reporters/central-e...</td>\n",
       "      <td>100reporters</td>\n",
       "      <td>0</td>\n",
       "      <td>/about/the-reporters/central-eastern-europe-st...</td>\n",
       "      <td>100r</td>\n",
       "      <td></td>\n",
       "    </tr>\n",
       "    <tr>\n",
       "      <th>3</th>\n",
       "      <td>Diana Jean Schemo</td>\n",
       "      <td>https://100r.org/author/diana/</td>\n",
       "      <td>100reporters</td>\n",
       "      <td>0</td>\n",
       "      <td>/author/diana/</td>\n",
       "      <td>100r</td>\n",
       "      <td></td>\n",
       "    </tr>\n",
       "    <tr>\n",
       "      <th>4</th>\n",
       "      <td>Did Industry Funding Influence an FDA Investig...</td>\n",
       "      <td>https://100r.org/2022/07/did-industry-funding-...</td>\n",
       "      <td>100reporters</td>\n",
       "      <td>1</td>\n",
       "      <td>/2022/07/did-industry-funding-influence-an-fda...</td>\n",
       "      <td>100r</td>\n",
       "      <td></td>\n",
       "    </tr>\n",
       "  </tbody>\n",
       "</table>\n",
       "</div>"
      ],
      "text/plain": [
       "                                                text  \\\n",
       "0                                           About Us   \n",
       "1  Asylum for Sale Refugees Say Some U.N. Workers...   \n",
       "2                             Central/Eastern Europe   \n",
       "3                                  Diana Jean Schemo   \n",
       "4  Did Industry Funding Influence an FDA Investig...   \n",
       "\n",
       "                                                 url        handle  is_story  \\\n",
       "0                            https://100r.org/about/  100reporters         0   \n",
       "1  https://100r.org/2019/04/unhcr-corruption-refu...  100reporters         1   \n",
       "2  https://100r.org/about/the-reporters/central-e...  100reporters         0   \n",
       "3                     https://100r.org/author/diana/  100reporters         0   \n",
       "4  https://100r.org/2022/07/did-industry-funding-...  100reporters         1   \n",
       "\n",
       "                                                path domain subdomain  \n",
       "0                                            /about/   100r            \n",
       "1    /2019/04/unhcr-corruption-refugee-resettlement/   100r            \n",
       "2  /about/the-reporters/central-eastern-europe-st...   100r            \n",
       "3                                     /author/diana/   100r            \n",
       "4  /2022/07/did-industry-funding-influence-an-fda...   100r            "
      ]
     },
     "execution_count": 12,
     "metadata": {},
     "output_type": "execute_result"
    }
   ],
   "source": [
    "labeled_df.head()"
   ]
  },
  {
   "cell_type": "markdown",
   "id": "7b72185f-02b4-467d-9ac3-d5ef48ce19fc",
   "metadata": {},
   "source": [
    "Remove rows without a headline"
   ]
  },
  {
   "cell_type": "code",
   "execution_count": 13,
   "id": "68a8dcbb-7652-44f6-a5d7-06ef3f4254e1",
   "metadata": {},
   "outputs": [],
   "source": [
    "training_df = labeled_df[~(labeled_df.text == \"\")]"
   ]
  },
  {
   "cell_type": "markdown",
   "id": "28a13b7a-f641-4544-b183-fc3a8a682948",
   "metadata": {},
   "source": [
    "Remove blacklisted domains"
   ]
  },
  {
   "cell_type": "code",
   "execution_count": 14,
   "id": "756a473f-6929-42c7-a135-04011d1095f0",
   "metadata": {},
   "outputs": [],
   "source": [
    "DOMAIN_BLACKLIST = (\n",
    "    \"google\",\n",
    "    \"twitter\",\n",
    "    \"facebook\",\n",
    "    \"doubleclick\",\n",
    "    \"instagram\",\n",
    "    \"pinterest\",\n",
    "    \"legacy\",\n",
    ")"
   ]
  },
  {
   "cell_type": "code",
   "execution_count": 15,
   "id": "1e23f61a-ed7b-4411-bd12-e38f4c1fb3c9",
   "metadata": {},
   "outputs": [],
   "source": [
    "training_df = training_df[~(training_df.domain.isin(DOMAIN_BLACKLIST))]"
   ]
  },
  {
   "cell_type": "markdown",
   "id": "a6278b5e-fa08-495c-9444-267f45bc8cf7",
   "metadata": {},
   "source": [
    "Same for subdomain"
   ]
  },
  {
   "cell_type": "code",
   "execution_count": 16,
   "id": "940b818c-9327-4afa-9dda-22aebf3ddd21",
   "metadata": {},
   "outputs": [],
   "source": [
    "SUBDOMAIN_BLACKLIST = (\n",
    "    \"careers\",\n",
    "    \"mail\",\n",
    "    \"account\",\n",
    ")"
   ]
  },
  {
   "cell_type": "code",
   "execution_count": 17,
   "id": "ae49e31c-ebd2-4cb9-94ab-a4d3ba48e711",
   "metadata": {},
   "outputs": [],
   "source": [
    "training_df = training_df[~(training_df.subdomain.isin(SUBDOMAIN_BLACKLIST))]"
   ]
  },
  {
   "cell_type": "markdown",
   "id": "fa437c5c-daa9-406f-b90a-4f7d296a403e",
   "metadata": {},
   "source": [
    "Cut any duplicates"
   ]
  },
  {
   "cell_type": "code",
   "execution_count": 18,
   "id": "152dccac-fe09-4d62-b4a5-2b4b2d4ce226",
   "metadata": {},
   "outputs": [],
   "source": [
    "training_df.drop_duplicates(inplace=True)"
   ]
  },
  {
   "cell_type": "markdown",
   "id": "58e0f522-6196-4e00-90f2-15ca9eee5244",
   "metadata": {},
   "source": [
    "## Train model"
   ]
  },
  {
   "cell_type": "markdown",
   "id": "1ffbf738-8726-4f32-8969-b02cea8d1034",
   "metadata": {},
   "source": [
    "Set our label, which is whether the URL leads to a story or not."
   ]
  },
  {
   "cell_type": "code",
   "execution_count": 19,
   "id": "8ab63613-89ac-46cb-b63a-5b39956a47ee",
   "metadata": {},
   "outputs": [],
   "source": [
    "labels = training_df.is_story.to_numpy()"
   ]
  },
  {
   "cell_type": "markdown",
   "id": "ae3a5ca5-e19b-4abf-ab16-326bc5c0fd25",
   "metadata": {},
   "source": [
    "Use NLP to convert the string fields into values"
   ]
  },
  {
   "cell_type": "code",
   "execution_count": 20,
   "id": "26009732-682d-4ba7-ab15-779f6bdbe119",
   "metadata": {},
   "outputs": [],
   "source": [
    "vectorizer = CountVectorizer(min_df=0.1, max_df=0.9, ngram_range=(1, 3), analyzer=\"char\")"
   ]
  },
  {
   "cell_type": "code",
   "execution_count": 21,
   "id": "093a99c8-f630-4869-bb46-843bf48018de",
   "metadata": {},
   "outputs": [],
   "source": [
    "text_feature = vectorizer.fit_transform(training_df.text).toarray()"
   ]
  },
  {
   "cell_type": "code",
   "execution_count": 22,
   "id": "ae1a7e24-2df9-438c-95ed-26939d629043",
   "metadata": {},
   "outputs": [],
   "source": [
    "path_feature = vectorizer.fit_transform(training_df.path).toarray()"
   ]
  },
  {
   "cell_type": "markdown",
   "id": "c8d47ae7-6c2f-4a15-b212-748924575a43",
   "metadata": {},
   "source": [
    "Combine the two string features into a single vector"
   ]
  },
  {
   "cell_type": "code",
   "execution_count": 23,
   "id": "9a1cc45e-2b69-44e4-81a4-28a2fe08ff5d",
   "metadata": {},
   "outputs": [],
   "source": [
    "features = np.concatenate([text_feature, path_feature], axis=1)"
   ]
  },
  {
   "cell_type": "markdown",
   "id": "b853cecc-c4b5-4d1f-b30d-874761e368de",
   "metadata": {},
   "source": [
    "Create a training set to test against"
   ]
  },
  {
   "cell_type": "code",
   "execution_count": 24,
   "id": "153d386d-50a9-4fe2-b3ef-250b01b6a992",
   "metadata": {},
   "outputs": [],
   "source": [
    "train, test, train_labels, test_labels = train_test_split(\n",
    "    features,\n",
    "    labels,\n",
    "    test_size=0.33,\n",
    "    random_state=45\n",
    ")"
   ]
  },
  {
   "cell_type": "markdown",
   "id": "b95a5b94-2486-41b1-b202-5f3520d6a960",
   "metadata": {},
   "source": [
    "Create the classifier"
   ]
  },
  {
   "cell_type": "code",
   "execution_count": 25,
   "id": "709886bc-23ac-4a63-a4ae-e0a123227a50",
   "metadata": {},
   "outputs": [],
   "source": [
    "gnb = GaussianNB()"
   ]
  },
  {
   "cell_type": "markdown",
   "id": "3345ab76-ec23-4776-afb8-f289097a5752",
   "metadata": {},
   "source": [
    "Train it."
   ]
  },
  {
   "cell_type": "code",
   "execution_count": 26,
   "id": "d5b68fb1-765b-4ed5-9eff-a6f228fea9fd",
   "metadata": {},
   "outputs": [],
   "source": [
    "model = gnb.fit(train, train_labels)"
   ]
  },
  {
   "cell_type": "markdown",
   "id": "5852afb4-6229-486b-81ad-81aa682893d5",
   "metadata": {},
   "source": [
    "Make predictions."
   ]
  },
  {
   "cell_type": "code",
   "execution_count": 27,
   "id": "18ee1d1b-f906-4ec9-aa60-965c32bc8fc6",
   "metadata": {},
   "outputs": [],
   "source": [
    "preds = gnb.predict(test)"
   ]
  },
  {
   "cell_type": "markdown",
   "id": "82cfdeb7-837e-4f14-8c8b-32c29fcd3ff4",
   "metadata": {},
   "source": [
    "## Review"
   ]
  },
  {
   "cell_type": "markdown",
   "id": "2d5232f2-18ac-40ee-b496-726ee47f06dc",
   "metadata": {},
   "source": [
    "Review the results"
   ]
  },
  {
   "cell_type": "code",
   "execution_count": 28,
   "id": "5ce8e617-e959-4ba5-873d-a8c5cac71e2c",
   "metadata": {},
   "outputs": [
    {
     "data": {
      "text/plain": [
       "0.9496402877697842"
      ]
     },
     "execution_count": 28,
     "metadata": {},
     "output_type": "execute_result"
    }
   ],
   "source": [
    "metrics.accuracy_score(test_labels, preds)"
   ]
  },
  {
   "cell_type": "code",
   "execution_count": 29,
   "id": "6e653e3e-a5ff-404e-a957-2330ca5f9d46",
   "metadata": {},
   "outputs": [
    {
     "name": "stdout",
     "output_type": "stream",
     "text": [
      "              precision    recall  f1-score   support\n",
      "\n",
      "           0       0.95      0.96      0.96       247\n",
      "           1       0.95      0.93      0.94       170\n",
      "\n",
      "    accuracy                           0.95       417\n",
      "   macro avg       0.95      0.95      0.95       417\n",
      "weighted avg       0.95      0.95      0.95       417\n",
      "\n"
     ]
    }
   ],
   "source": [
    "print(metrics.classification_report(test_labels, preds))"
   ]
  },
  {
   "cell_type": "markdown",
   "id": "312293bd-36f3-4047-b6c2-660c6f278faa",
   "metadata": {},
   "source": [
    "## Export"
   ]
  },
  {
   "cell_type": "markdown",
   "id": "cde2bbfb-a81d-4f47-af35-cdcabcf409a9",
   "metadata": {},
   "source": [
    "Save the model as a pickle"
   ]
  },
  {
   "cell_type": "code",
   "execution_count": 30,
   "id": "4b62a036-6e86-4e8e-8422-fa8abf5eb3ea",
   "metadata": {},
   "outputs": [],
   "source": [
    "with open(output_path / \"gnb.pickle\", 'wb') as fh:\n",
    "    pickle.dump(model, fh)"
   ]
  }
 ],
 "metadata": {
  "kernelspec": {
   "display_name": "Python 3 (ipykernel)",
   "language": "python",
   "name": "python3"
  },
  "language_info": {
   "codemirror_mode": {
    "name": "ipython",
    "version": 3
   },
   "file_extension": ".py",
   "mimetype": "text/x-python",
   "name": "python",
   "nbconvert_exporter": "python",
   "pygments_lexer": "ipython3",
   "version": "3.9.2"
  }
 },
 "nbformat": 4,
 "nbformat_minor": 5
}
