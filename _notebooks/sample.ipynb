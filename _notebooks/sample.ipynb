{
 "cells": [
  {
   "cell_type": "markdown",
   "id": "2c3e4f67-011b-495c-becb-26fbb239d96a",
   "metadata": {},
   "source": [
    "# Sample\n",
    "\n",
    "Pull a sample of hyperlinks from the [News Homepages](https://homepages.news) archive for training."
   ]
  },
  {
   "cell_type": "code",
   "execution_count": 23,
   "id": "8ae9c474-77c3-48bd-aab7-eedaac8805d8",
   "metadata": {},
   "outputs": [],
   "source": [
    "import pathlib\n",
    "import random\n",
    "import pandas as pd"
   ]
  },
  {
   "cell_type": "markdown",
   "id": "ce4afed4-753b-47b3-9066-f1409085fee3",
   "metadata": {},
   "source": [
    "Get all of the hyperlinks JSON files in the input directory"
   ]
  },
  {
   "cell_type": "code",
   "execution_count": 24,
   "id": "90b7ef65-a6d5-4679-a4b0-af48afd7e950",
   "metadata": {},
   "outputs": [],
   "source": [
    "input_path = pathlib.Path(\"\") / \"input\""
   ]
  },
  {
   "cell_type": "code",
   "execution_count": 25,
   "id": "27ccd40a-235c-4b8a-b1c0-c2b0d15143bf",
   "metadata": {},
   "outputs": [],
   "source": [
    "file_list = list((input_path / \"20220731-sample\").glob(\"**/*.json\"))"
   ]
  },
  {
   "cell_type": "markdown",
   "id": "07fde6cc-c642-4014-94b0-610b263a67f6",
   "metadata": {},
   "source": [
    "Get a sample of records from every file."
   ]
  },
  {
   "cell_type": "code",
   "execution_count": 26,
   "id": "ae815ce8-afb7-4dcf-8677-3d960de7526a",
   "metadata": {},
   "outputs": [],
   "source": [
    "def sample_urls(path, n=10):\n",
    "    \"\"\"Sample a random number of URLs from the provided file path.\"\"\"\n",
    "    # Read the file\n",
    "    df = pd.read_json(path)\n",
    "    # Clean up text\n",
    "    df['text'] = df.text.str.strip()\n",
    "    # Drop links without text\n",
    "    df = df[~(df.text == \"\")].copy()\n",
    "    # Tack on handle\n",
    "    df['handle'] = path.stem.split(\".\")[0]\n",
    "    # Drop duplicates\n",
    "    df.drop_duplicates(inplace=True)\n",
    "    # Get unique URL\n",
    "    return df.sample(n=n)"
   ]
  },
  {
   "cell_type": "code",
   "execution_count": 27,
   "id": "0819467d-e2fa-4646-a965-602bf1e498b2",
   "metadata": {},
   "outputs": [],
   "source": [
    "df_list = [sample_urls(f) for f in file_list]"
   ]
  },
  {
   "cell_type": "markdown",
   "id": "47a87e28-b411-4f35-b6bf-fbab36206515",
   "metadata": {},
   "source": [
    "Merge them all together."
   ]
  },
  {
   "cell_type": "code",
   "execution_count": 28,
   "id": "8711304e-e259-42cf-b0f9-8680a4467f36",
   "metadata": {},
   "outputs": [],
   "source": [
    "sample_df = pd.concat(df_list)"
   ]
  },
  {
   "cell_type": "code",
   "execution_count": 29,
   "id": "8ca8f1e0-ff7c-4ea2-9826-28faf3d793b3",
   "metadata": {},
   "outputs": [
    {
     "name": "stdout",
     "output_type": "stream",
     "text": [
      "<class 'pandas.core.frame.DataFrame'>\n",
      "Int64Index: 1330 entries, 35 to 65\n",
      "Data columns (total 3 columns):\n",
      " #   Column  Non-Null Count  Dtype \n",
      "---  ------  --------------  ----- \n",
      " 0   text    1330 non-null   object\n",
      " 1   url     1330 non-null   object\n",
      " 2   handle  1330 non-null   object\n",
      "dtypes: object(3)\n",
      "memory usage: 41.6+ KB\n"
     ]
    }
   ],
   "source": [
    "sample_df.info()"
   ]
  },
  {
   "cell_type": "code",
   "execution_count": 30,
   "id": "91e46907-4fb9-49c0-b1f1-15e7be28a681",
   "metadata": {},
   "outputs": [
    {
     "data": {
      "text/plain": [
       "kut              10\n",
       "oaklandside      10\n",
       "redstate         10\n",
       "jstor_daily      10\n",
       "pioneerpress     10\n",
       "                 ..\n",
       "indiancountry    10\n",
       "lasvegassun      10\n",
       "quillette        10\n",
       "ketv             10\n",
       "irishcathnews    10\n",
       "Name: handle, Length: 133, dtype: int64"
      ]
     },
     "execution_count": 30,
     "metadata": {},
     "output_type": "execute_result"
    }
   ],
   "source": [
    "sample_df.handle.value_counts()"
   ]
  },
  {
   "cell_type": "code",
   "execution_count": 31,
   "id": "10444dda-61a9-4554-b27d-4f4274dbf709",
   "metadata": {},
   "outputs": [
    {
     "data": {
      "text/html": [
       "<div>\n",
       "<style scoped>\n",
       "    .dataframe tbody tr th:only-of-type {\n",
       "        vertical-align: middle;\n",
       "    }\n",
       "\n",
       "    .dataframe tbody tr th {\n",
       "        vertical-align: top;\n",
       "    }\n",
       "\n",
       "    .dataframe thead th {\n",
       "        text-align: right;\n",
       "    }\n",
       "</style>\n",
       "<table border=\"1\" class=\"dataframe\">\n",
       "  <thead>\n",
       "    <tr style=\"text-align: right;\">\n",
       "      <th></th>\n",
       "      <th>text</th>\n",
       "      <th>url</th>\n",
       "      <th>handle</th>\n",
       "    </tr>\n",
       "  </thead>\n",
       "  <tbody>\n",
       "    <tr>\n",
       "      <th>35</th>\n",
       "      <td>ATXplained</td>\n",
       "      <td>https://kutkutx.studio/category/atxplained</td>\n",
       "      <td>kut</td>\n",
       "    </tr>\n",
       "    <tr>\n",
       "      <th>247</th>\n",
       "      <td>As interest rates rise, the 'American dream' o...</td>\n",
       "      <td>https://www.kut.org/business/2022-07-30/as-int...</td>\n",
       "      <td>kut</td>\n",
       "    </tr>\n",
       "    <tr>\n",
       "      <th>21</th>\n",
       "      <td>Life &amp; Arts</td>\n",
       "      <td>https://www.kut.org/life-arts</td>\n",
       "      <td>kut</td>\n",
       "    </tr>\n",
       "    <tr>\n",
       "      <th>58</th>\n",
       "      <td>Sustaining Members</td>\n",
       "      <td>https://www.kut.org/sustaining-membership</td>\n",
       "      <td>kut</td>\n",
       "    </tr>\n",
       "    <tr>\n",
       "      <th>51</th>\n",
       "      <td>Become a Member</td>\n",
       "      <td>https://www.kut.org/support-kut</td>\n",
       "      <td>kut</td>\n",
       "    </tr>\n",
       "  </tbody>\n",
       "</table>\n",
       "</div>"
      ],
      "text/plain": [
       "                                                  text  \\\n",
       "35                                          ATXplained   \n",
       "247  As interest rates rise, the 'American dream' o...   \n",
       "21                                         Life & Arts   \n",
       "58                                  Sustaining Members   \n",
       "51                                     Become a Member   \n",
       "\n",
       "                                                   url handle  \n",
       "35          https://kutkutx.studio/category/atxplained    kut  \n",
       "247  https://www.kut.org/business/2022-07-30/as-int...    kut  \n",
       "21                       https://www.kut.org/life-arts    kut  \n",
       "58           https://www.kut.org/sustaining-membership    kut  \n",
       "51                     https://www.kut.org/support-kut    kut  "
      ]
     },
     "execution_count": 31,
     "metadata": {},
     "output_type": "execute_result"
    }
   ],
   "source": [
    "sample_df.head()"
   ]
  },
  {
   "cell_type": "code",
   "execution_count": 32,
   "id": "5d19277d-8fd8-494a-a0a5-4e60ad618713",
   "metadata": {},
   "outputs": [],
   "source": [
    "sample_df.to_csv(input_path / \"sample.csv\", index=False)"
   ]
  }
 ],
 "metadata": {
  "kernelspec": {
   "display_name": "Python 3 (ipykernel)",
   "language": "python",
   "name": "python3"
  },
  "language_info": {
   "codemirror_mode": {
    "name": "ipython",
    "version": 3
   },
   "file_extension": ".py",
   "mimetype": "text/x-python",
   "name": "python",
   "nbconvert_exporter": "python",
   "pygments_lexer": "ipython3",
   "version": "3.9.2"
  }
 },
 "nbformat": 4,
 "nbformat_minor": 5
}
