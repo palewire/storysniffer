{
 "cells": [
  {
   "cell_type": "markdown",
   "id": "2c3e4f67-011b-495c-becb-26fbb239d96a",
   "metadata": {},
   "source": [
    "# Sample\n",
    "\n",
    "Pull a sample of hyperlinks from the [News Homepages](https://homepages.news) archive for training."
   ]
  },
  {
   "cell_type": "code",
   "execution_count": 1,
   "id": "8ae9c474-77c3-48bd-aab7-eedaac8805d8",
   "metadata": {},
   "outputs": [],
   "source": [
    "import pathlib\n",
    "import random\n",
    "import pandas as pd"
   ]
  },
  {
   "cell_type": "markdown",
   "id": "ce4afed4-753b-47b3-9066-f1409085fee3",
   "metadata": {},
   "source": [
    "Get all of the hyperlinks JSON files in the input directory"
   ]
  },
  {
   "cell_type": "code",
   "execution_count": 2,
   "id": "90b7ef65-a6d5-4679-a4b0-af48afd7e950",
   "metadata": {},
   "outputs": [],
   "source": [
    "input_path = pathlib.Path(\"\") / \"input\""
   ]
  },
  {
   "cell_type": "code",
   "execution_count": 3,
   "id": "27ccd40a-235c-4b8a-b1c0-c2b0d15143bf",
   "metadata": {},
   "outputs": [],
   "source": [
    "file_list = list((input_path / \"20220731-sample\").glob(\"**/*.json\"))"
   ]
  },
  {
   "cell_type": "markdown",
   "id": "07fde6cc-c642-4014-94b0-610b263a67f6",
   "metadata": {},
   "source": [
    "Get a sample of records from every file."
   ]
  },
  {
   "cell_type": "code",
   "execution_count": 9,
   "id": "ae815ce8-afb7-4dcf-8677-3d960de7526a",
   "metadata": {},
   "outputs": [],
   "source": [
    "def sample_urls(path, n=10):\n",
    "    \"\"\"Sample a random number of URLs from the provided file path.\"\"\"\n",
    "    # Read the file\n",
    "    df = pd.read_json(path)\n",
    "    # Cut empties\n",
    "    if len(df) < n:\n",
    "        return df\n",
    "    # Clean up text\n",
    "    df['text'] = df.text.str.strip()\n",
    "    # Drop links without text\n",
    "    df = df[~(df.text == \"\")].copy()\n",
    "    # Tack on handle\n",
    "    df['handle'] = path.stem.split(\".\")[0]\n",
    "    # Drop duplicates\n",
    "    df.drop_duplicates(inplace=True)\n",
    "    # Get unique URL\n",
    "    return df.sample(n=n)"
   ]
  },
  {
   "cell_type": "code",
   "execution_count": 10,
   "id": "0819467d-e2fa-4646-a965-602bf1e498b2",
   "metadata": {},
   "outputs": [],
   "source": [
    "df_list = [sample_urls(f) for f in file_list]"
   ]
  },
  {
   "cell_type": "markdown",
   "id": "47a87e28-b411-4f35-b6bf-fbab36206515",
   "metadata": {},
   "source": [
    "Merge them all together."
   ]
  },
  {
   "cell_type": "code",
   "execution_count": 11,
   "id": "8711304e-e259-42cf-b0f9-8680a4467f36",
   "metadata": {},
   "outputs": [],
   "source": [
    "sample_df = pd.concat(df_list)"
   ]
  },
  {
   "cell_type": "code",
   "execution_count": 12,
   "id": "8ca8f1e0-ff7c-4ea2-9826-28faf3d793b3",
   "metadata": {},
   "outputs": [
    {
     "name": "stdout",
     "output_type": "stream",
     "text": [
      "<class 'pandas.core.frame.DataFrame'>\n",
      "Int64Index: 1294 entries, 0 to 111\n",
      "Data columns (total 3 columns):\n",
      " #   Column  Non-Null Count  Dtype \n",
      "---  ------  --------------  ----- \n",
      " 0   text    1294 non-null   object\n",
      " 1   url     1294 non-null   object\n",
      " 2   handle  1290 non-null   object\n",
      "dtypes: object(3)\n",
      "memory usage: 40.4+ KB\n"
     ]
    }
   ],
   "source": [
    "sample_df.info()"
   ]
  },
  {
   "cell_type": "code",
   "execution_count": 13,
   "id": "91e46907-4fb9-49c0-b1f1-15e7be28a681",
   "metadata": {},
   "outputs": [
    {
     "data": {
      "text/plain": [
       "powerlineus        10\n",
       "thedispatch        10\n",
       "wcfcourier         10\n",
       "techreview         10\n",
       "occrp              10\n",
       "                   ..\n",
       "rollcall           10\n",
       "thedailybeast      10\n",
       "voiceofsandiego    10\n",
       "reviewjournal      10\n",
       "sacbee_news        10\n",
       "Name: handle, Length: 129, dtype: int64"
      ]
     },
     "execution_count": 13,
     "metadata": {},
     "output_type": "execute_result"
    }
   ],
   "source": [
    "sample_df.handle.value_counts()"
   ]
  },
  {
   "cell_type": "code",
   "execution_count": 14,
   "id": "10444dda-61a9-4554-b27d-4f4274dbf709",
   "metadata": {},
   "outputs": [
    {
     "data": {
      "text/html": [
       "<div>\n",
       "<style scoped>\n",
       "    .dataframe tbody tr th:only-of-type {\n",
       "        vertical-align: middle;\n",
       "    }\n",
       "\n",
       "    .dataframe tbody tr th {\n",
       "        vertical-align: top;\n",
       "    }\n",
       "\n",
       "    .dataframe thead th {\n",
       "        text-align: right;\n",
       "    }\n",
       "</style>\n",
       "<table border=\"1\" class=\"dataframe\">\n",
       "  <thead>\n",
       "    <tr style=\"text-align: right;\">\n",
       "      <th></th>\n",
       "      <th>text</th>\n",
       "      <th>url</th>\n",
       "      <th>handle</th>\n",
       "    </tr>\n",
       "  </thead>\n",
       "  <tbody>\n",
       "    <tr>\n",
       "      <th>0</th>\n",
       "      <td>ABOUT US</td>\n",
       "      <td>/about-us</td>\n",
       "      <td>NaN</td>\n",
       "    </tr>\n",
       "    <tr>\n",
       "      <th>1</th>\n",
       "      <td>MEET THE TEAM</td>\n",
       "      <td>/meet-the-team</td>\n",
       "      <td>NaN</td>\n",
       "    </tr>\n",
       "    <tr>\n",
       "      <th>2</th>\n",
       "      <td>CAREERS</td>\n",
       "      <td>https://boards.greenhouse.io/semafor</td>\n",
       "      <td>NaN</td>\n",
       "    </tr>\n",
       "    <tr>\n",
       "      <th>3</th>\n",
       "      <td>PRIVACY</td>\n",
       "      <td>/privacy.html</td>\n",
       "      <td>NaN</td>\n",
       "    </tr>\n",
       "    <tr>\n",
       "      <th>176</th>\n",
       "      <td>Privacy Policy</td>\n",
       "      <td>https://www.powerlineblog.com/privacy-policy</td>\n",
       "      <td>powerlineus</td>\n",
       "    </tr>\n",
       "  </tbody>\n",
       "</table>\n",
       "</div>"
      ],
      "text/plain": [
       "               text                                           url       handle\n",
       "0          ABOUT US                                     /about-us          NaN\n",
       "1     MEET THE TEAM                                /meet-the-team          NaN\n",
       "2           CAREERS          https://boards.greenhouse.io/semafor          NaN\n",
       "3           PRIVACY                                 /privacy.html          NaN\n",
       "176  Privacy Policy  https://www.powerlineblog.com/privacy-policy  powerlineus"
      ]
     },
     "execution_count": 14,
     "metadata": {},
     "output_type": "execute_result"
    }
   ],
   "source": [
    "sample_df.head()"
   ]
  },
  {
   "cell_type": "code",
   "execution_count": 15,
   "id": "5d19277d-8fd8-494a-a0a5-4e60ad618713",
   "metadata": {},
   "outputs": [],
   "source": [
    "sample_df.to_csv(input_path / \"sample.csv\", index=False)"
   ]
  }
 ],
 "metadata": {
  "kernelspec": {
   "display_name": "Python 3 (ipykernel)",
   "language": "python",
   "name": "python3"
  },
  "language_info": {
   "codemirror_mode": {
    "name": "ipython",
    "version": 3
   },
   "file_extension": ".py",
   "mimetype": "text/x-python",
   "name": "python",
   "nbconvert_exporter": "python",
   "pygments_lexer": "ipython3",
   "version": "3.9.2"
  }
 },
 "nbformat": 4,
 "nbformat_minor": 5
}
