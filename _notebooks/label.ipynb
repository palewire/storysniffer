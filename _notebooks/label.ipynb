{
 "cells": [
  {
   "cell_type": "markdown",
   "id": "8952474a-ff2e-48a3-ada9-9120c147e01e",
   "metadata": {},
   "source": [
    "# Label\n",
    "\n",
    "Run the models against fresh data to see how it goes."
   ]
  },
  {
   "cell_type": "code",
   "execution_count": 51,
   "id": "c96a8de4-cf00-407a-a57b-73f305a99a5a",
   "metadata": {},
   "outputs": [],
   "source": [
    "import os\n",
    "import re\n",
    "import pathlib\n",
    "from urllib.parse import urlparse"
   ]
  },
  {
   "cell_type": "code",
   "execution_count": 52,
   "id": "3dada257-4593-40e7-afef-773c70e202a6",
   "metadata": {},
   "outputs": [],
   "source": [
    "import dill\n",
    "import tldextract\n",
    "import numpy as np\n",
    "import pandas as pd"
   ]
  },
  {
   "cell_type": "markdown",
   "id": "d929c4c9-614c-4a2f-86e9-fb527775ac34",
   "metadata": {},
   "source": [
    "## Get models"
   ]
  },
  {
   "cell_type": "code",
   "execution_count": 53,
   "id": "8db0094d-e529-42fb-b03e-338cea494b13",
   "metadata": {},
   "outputs": [],
   "source": [
    "input_path = pathlib.Path(\"\") / \"input\""
   ]
  },
  {
   "cell_type": "code",
   "execution_count": 54,
   "id": "cf0a4311-65e8-4fde-97bb-6b51e458c1aa",
   "metadata": {},
   "outputs": [],
   "source": [
    "output_path = pathlib.Path(\"\") / \"output\""
   ]
  },
  {
   "cell_type": "code",
   "execution_count": 55,
   "id": "5bb46c5e-a788-45a1-bbf5-dd6fa2fa2069",
   "metadata": {},
   "outputs": [],
   "source": [
    "path_and_text_model = dill.load(open(output_path / \"path-and-text-model.pickle\", \"rb\"))"
   ]
  },
  {
   "cell_type": "code",
   "execution_count": 56,
   "id": "d53df7f6-b6bf-4ee8-a0ca-18cb7dac48dd",
   "metadata": {},
   "outputs": [],
   "source": [
    "path_only_model = dill.load(open(output_path / \"path-only-model.pickle\", \"rb\"))"
   ]
  },
  {
   "cell_type": "markdown",
   "id": "79b600e1-a2c3-490d-ad35-d201373fff7a",
   "metadata": {},
   "source": [
    "## Implement"
   ]
  },
  {
   "cell_type": "code",
   "execution_count": 57,
   "id": "4a059b9f-ea09-4d54-b6e8-e6011d25719e",
   "metadata": {},
   "outputs": [],
   "source": [
    "DOMAIN_BLACKLIST = (\n",
    "    \"google\",\n",
    "    \"twitter\",\n",
    "    \"facebook\",\n",
    "    \"doubleclick\",\n",
    "    \"instagram\",\n",
    "    \"pinterest\",\n",
    "    \"legacy\",\n",
    ")"
   ]
  },
  {
   "cell_type": "code",
   "execution_count": 58,
   "id": "3ae5c6df-5ffc-41b9-adc0-635849afcb69",
   "metadata": {},
   "outputs": [],
   "source": [
    "SUBDOMAIN_BLACKLIST = (\n",
    "    \"careers\",\n",
    "    \"mail\",\n",
    "    \"account\",\n",
    ")"
   ]
  },
  {
   "cell_type": "code",
   "execution_count": 59,
   "id": "d8687757-5834-4d2d-81fd-048e77fb3c5c",
   "metadata": {},
   "outputs": [],
   "source": [
    "PATH_BLACKLIST = (\n",
    "    \"\",\n",
    "    \"/\",\n",
    ")"
   ]
  },
  {
   "cell_type": "code",
   "execution_count": 60,
   "id": "6a49936e-30bd-4baa-8d5b-927c2aa33e57",
   "metadata": {},
   "outputs": [],
   "source": [
    "EXT_BLACKLIST = (\n",
    "    \".js\",\n",
    "    \".css\",\n",
    "    \".jpg\",\n",
    "    \".gif\",\n",
    "    \".png\",\n",
    ")"
   ]
  },
  {
   "cell_type": "code",
   "execution_count": 61,
   "id": "71ef0f52-10e0-4ab9-a1eb-5ed7ca2d4172",
   "metadata": {},
   "outputs": [],
   "source": [
    "PATHPART_WHITELIST = (\n",
    "    \"/story\",\n",
    "    \"/stories\",\n",
    "    \"/article\",\n",
    "    \"/feature\",\n",
    "    \"/featured\",\n",
    "    \"/blog\",\n",
    "    \"/interactive\",\n",
    "    \"/graphic\",\n",
    "    \"/video\",\n",
    "    \"/post\",\n",
    ")"
   ]
  },
  {
   "cell_type": "code",
   "execution_count": 62,
   "id": "f3073bca-a419-417f-9e09-e74bd86ad0bb",
   "metadata": {},
   "outputs": [],
   "source": [
    "def tidy_text(t):\n",
    "    t = t.strip()\n",
    "    t = t.replace(\"\\n\", \"\")\n",
    "    t = t.replace(\"\\t\", \"\")\n",
    "    t = t.lower()\n",
    "    t = re.sub('<[^<]+?>', '', t)\n",
    "    t = ' '.join(t.split())\n",
    "    return t"
   ]
  },
  {
   "cell_type": "code",
   "execution_count": 63,
   "id": "dd98c059-72da-4097-859a-b6b3aed1d172",
   "metadata": {},
   "outputs": [],
   "source": [
    "def label(url, text=None):\n",
    "    # Drop any nulls\n",
    "    if not url or pd.isnull(url) or not url.strip():\n",
    "        return False\n",
    "    \n",
    "    # Pull out the data we need\n",
    "    urlparts = urlparse(url)\n",
    "    path = urlparts.path\n",
    "    tld = tldextract.extract(url)\n",
    "\n",
    "    # Drop anything we're certain isn't a story\n",
    "    if tld.domain in DOMAIN_BLACKLIST:\n",
    "        return False\n",
    "    elif tld.subdomain in SUBDOMAIN_BLACKLIST:\n",
    "        return False\n",
    "    # Kill anything in one of our blacklists\n",
    "    elif path in PATH_BLACKLIST:\n",
    "        return False\n",
    "    elif os.path.splitext(path)[1] in EXT_BLACKLIST:\n",
    "        return False\n",
    "    \n",
    "    # Pick which model we're using, based on the input\n",
    "    if text:\n",
    "        text = tidy_text(text)\n",
    "        model = path_and_text_model\n",
    "    else:\n",
    "        model = path_only_model\n",
    "\n",
    "    # Run a prediction\n",
    "    data = [dict(path=path, text=text)]\n",
    "    prediction = model.predict(data)[0] == 1\n",
    "\n",
    "    # If it's False but it has one of our whitelisted slugs, overturn the decision\n",
    "    if not prediction:\n",
    "        if path.startswith(PATHPART_WHITELIST) and len(path) > 10 and \"-\" in path:\n",
    "            return True\n",
    "    \n",
    "    # Return the result\n",
    "    return prediction"
   ]
  },
  {
   "cell_type": "markdown",
   "id": "090c0930-7d01-4db8-93b8-2dc0906a471f",
   "metadata": {},
   "source": [
    "## Test"
   ]
  },
  {
   "cell_type": "markdown",
   "id": "4dc41b61-5ce5-4ab2-851f-f36ca55a04e1",
   "metadata": {},
   "source": [
    "Try some one-off predictions"
   ]
  },
  {
   "cell_type": "code",
   "execution_count": 64,
   "id": "f811a9ee-0191-4518-a273-fc2441587507",
   "metadata": {},
   "outputs": [
    {
     "data": {
      "text/plain": [
       "False"
      ]
     },
     "execution_count": 64,
     "metadata": {},
     "output_type": "execute_result"
    }
   ],
   "source": [
    "label(\"http://www.latimes.com/whatever.html\", \"This is not a headline\")"
   ]
  },
  {
   "cell_type": "code",
   "execution_count": 65,
   "id": "d0e1a1d0-eff3-44a0-b857-2b5540f38965",
   "metadata": {},
   "outputs": [
    {
     "data": {
      "text/plain": [
       "True"
      ]
     },
     "execution_count": 65,
     "metadata": {},
     "output_type": "execute_result"
    }
   ],
   "source": [
    "label(\"http://www.latimes.com/2019/04/unhcr-corruption-refugee-resettlement/\", \"This is a headline\")"
   ]
  },
  {
   "cell_type": "code",
   "execution_count": 66,
   "id": "0a6afad1-ac7f-4600-ba51-02dba7bfd073",
   "metadata": {},
   "outputs": [
    {
     "data": {
      "text/plain": [
       "False"
      ]
     },
     "execution_count": 66,
     "metadata": {},
     "output_type": "execute_result"
    }
   ],
   "source": [
    "label(\"http://www.latimes.com/whatever.html\")"
   ]
  },
  {
   "cell_type": "code",
   "execution_count": 67,
   "id": "1bc71b6c-4735-4aa0-9bef-fd2093ac8ef2",
   "metadata": {},
   "outputs": [
    {
     "data": {
      "text/plain": [
       "True"
      ]
     },
     "execution_count": 67,
     "metadata": {},
     "output_type": "execute_result"
    }
   ],
   "source": [
    "label(\"http://www.latimes.com/2019/04/unhcr-corruption-refugee-resettlement/\")"
   ]
  },
  {
   "cell_type": "markdown",
   "id": "7d8f42f1-918c-43a7-8dfa-a06268b2e5c2",
   "metadata": {},
   "source": [
    "Inspect the inaccurate predictions in our labeled dataset"
   ]
  },
  {
   "cell_type": "code",
   "execution_count": 68,
   "id": "bcc2e0ae-ff00-4f43-ada6-dec8b5c710ea",
   "metadata": {},
   "outputs": [],
   "source": [
    "labeled_df = pd.read_csv(input_path / \"labeled.csv\", dtype={\"is_story\": bool})"
   ]
  },
  {
   "cell_type": "code",
   "execution_count": 69,
   "id": "bd7d190e-5e14-4c30-a3c4-e8190f083acb",
   "metadata": {},
   "outputs": [],
   "source": [
    "labeled_df['prediction'] = labeled_df.apply(lambda x: label(x['url'], x['text']), axis=1)"
   ]
  },
  {
   "cell_type": "code",
   "execution_count": 70,
   "id": "436414c8-2a11-4482-9126-df3bcb480f5f",
   "metadata": {},
   "outputs": [],
   "source": [
    "labeled_df['is_accurate'] = labeled_df.prediction == labeled_df.is_story"
   ]
  },
  {
   "cell_type": "code",
   "execution_count": 71,
   "id": "524e05a4-50e3-4284-b551-0a9932802c7a",
   "metadata": {},
   "outputs": [
    {
     "data": {
      "text/plain": [
       "True     0.9594\n",
       "False    0.0406\n",
       "Name: is_accurate, dtype: float64"
      ]
     },
     "execution_count": 71,
     "metadata": {},
     "output_type": "execute_result"
    }
   ],
   "source": [
    "labeled_df.is_accurate.value_counts(normalize=True)"
   ]
  },
  {
   "cell_type": "code",
   "execution_count": 72,
   "id": "09f538b4-0923-46dd-b82d-57e5461e0d22",
   "metadata": {},
   "outputs": [
    {
     "data": {
      "text/html": [
       "<div>\n",
       "<style scoped>\n",
       "    .dataframe tbody tr th:only-of-type {\n",
       "        vertical-align: middle;\n",
       "    }\n",
       "\n",
       "    .dataframe tbody tr th {\n",
       "        vertical-align: top;\n",
       "    }\n",
       "\n",
       "    .dataframe thead th {\n",
       "        text-align: right;\n",
       "    }\n",
       "</style>\n",
       "<table border=\"1\" class=\"dataframe\">\n",
       "  <thead>\n",
       "    <tr style=\"text-align: right;\">\n",
       "      <th></th>\n",
       "      <th>text</th>\n",
       "      <th>url</th>\n",
       "      <th>is_story</th>\n",
       "      <th>prediction</th>\n",
       "      <th>is_accurate</th>\n",
       "    </tr>\n",
       "  </thead>\n",
       "  <tbody>\n",
       "    <tr>\n",
       "      <th>1</th>\n",
       "      <td>8 \\n\\t\\t\\t\\t\\t\\t\\t\\t  \\t\\t\\n\\t\\t\\t\\t\\t\\t\\t\\t\\t...</td>\n",
       "      <td>https://jewishcurrents.org/bad-education</td>\n",
       "      <td>True</td>\n",
       "      <td>False</td>\n",
       "      <td>False</td>\n",
       "    </tr>\n",
       "    <tr>\n",
       "      <th>3</th>\n",
       "      <td>20 Under 40</td>\n",
       "      <td>https://www.lagrangenews.com/20-under-40/</td>\n",
       "      <td>True</td>\n",
       "      <td>False</td>\n",
       "      <td>False</td>\n",
       "    </tr>\n",
       "    <tr>\n",
       "      <th>4</th>\n",
       "      <td>Bela’s Pilgrim</td>\n",
       "      <td>https://jewishcurrents.org/belas-pilgrim</td>\n",
       "      <td>True</td>\n",
       "      <td>False</td>\n",
       "      <td>False</td>\n",
       "    </tr>\n",
       "    <tr>\n",
       "      <th>7</th>\n",
       "      <td>Central/Eastern Europe</td>\n",
       "      <td>https://100r.org/about/the-reporters/central-e...</td>\n",
       "      <td>False</td>\n",
       "      <td>True</td>\n",
       "      <td>False</td>\n",
       "    </tr>\n",
       "    <tr>\n",
       "      <th>21</th>\n",
       "      <td>Follow the storms as they come in.</td>\n",
       "      <td>https://www.11alive.com/radar</td>\n",
       "      <td>False</td>\n",
       "      <td>True</td>\n",
       "      <td>False</td>\n",
       "    </tr>\n",
       "    <tr>\n",
       "      <th>...</th>\n",
       "      <td>...</td>\n",
       "      <td>...</td>\n",
       "      <td>...</td>\n",
       "      <td>...</td>\n",
       "      <td>...</td>\n",
       "    </tr>\n",
       "    <tr>\n",
       "      <th>2431</th>\n",
       "      <td>switch to the \\n            International edition</td>\n",
       "      <td>https://www.theguardian.com/preference/edition...</td>\n",
       "      <td>False</td>\n",
       "      <td>True</td>\n",
       "      <td>False</td>\n",
       "    </tr>\n",
       "    <tr>\n",
       "      <th>2438</th>\n",
       "      <td>Conserve and enhance grains with ease, says le...</td>\n",
       "      <td>/sponsored/arid-40927322.html</td>\n",
       "      <td>False</td>\n",
       "      <td>True</td>\n",
       "      <td>False</td>\n",
       "    </tr>\n",
       "    <tr>\n",
       "      <th>2508</th>\n",
       "      <td>Explore nearly two decades of Cook County cour...</td>\n",
       "      <td>https://charges.thecircuit.cc/en/</td>\n",
       "      <td>False</td>\n",
       "      <td>True</td>\n",
       "      <td>False</td>\n",
       "    </tr>\n",
       "    <tr>\n",
       "      <th>2538</th>\n",
       "      <td>Read More ...</td>\n",
       "      <td>https://www.okayplayer.com/music/flying-lotus-...</td>\n",
       "      <td>True</td>\n",
       "      <td>False</td>\n",
       "      <td>False</td>\n",
       "    </tr>\n",
       "    <tr>\n",
       "      <th>2640</th>\n",
       "      <td>Quick Hits Primary category in which blog post...</td>\n",
       "      <td>https://readsludge.com/category/quick-hits/</td>\n",
       "      <td>False</td>\n",
       "      <td>True</td>\n",
       "      <td>False</td>\n",
       "    </tr>\n",
       "  </tbody>\n",
       "</table>\n",
       "<p>111 rows × 5 columns</p>\n",
       "</div>"
      ],
      "text/plain": [
       "                                                   text  \\\n",
       "1     8 \\n\\t\\t\\t\\t\\t\\t\\t\\t  \\t\\t\\n\\t\\t\\t\\t\\t\\t\\t\\t\\t...   \n",
       "3                                           20 Under 40   \n",
       "4                                        Bela’s Pilgrim   \n",
       "7                                Central/Eastern Europe   \n",
       "21                   Follow the storms as they come in.   \n",
       "...                                                 ...   \n",
       "2431  switch to the \\n            International edition   \n",
       "2438  Conserve and enhance grains with ease, says le...   \n",
       "2508  Explore nearly two decades of Cook County cour...   \n",
       "2538                                      Read More ...   \n",
       "2640  Quick Hits Primary category in which blog post...   \n",
       "\n",
       "                                                    url  is_story  prediction  \\\n",
       "1              https://jewishcurrents.org/bad-education      True       False   \n",
       "3             https://www.lagrangenews.com/20-under-40/      True       False   \n",
       "4              https://jewishcurrents.org/belas-pilgrim      True       False   \n",
       "7     https://100r.org/about/the-reporters/central-e...     False        True   \n",
       "21                        https://www.11alive.com/radar     False        True   \n",
       "...                                                 ...       ...         ...   \n",
       "2431  https://www.theguardian.com/preference/edition...     False        True   \n",
       "2438                      /sponsored/arid-40927322.html     False        True   \n",
       "2508                  https://charges.thecircuit.cc/en/     False        True   \n",
       "2538  https://www.okayplayer.com/music/flying-lotus-...      True       False   \n",
       "2640        https://readsludge.com/category/quick-hits/     False        True   \n",
       "\n",
       "      is_accurate  \n",
       "1           False  \n",
       "3           False  \n",
       "4           False  \n",
       "7           False  \n",
       "21          False  \n",
       "...           ...  \n",
       "2431        False  \n",
       "2438        False  \n",
       "2508        False  \n",
       "2538        False  \n",
       "2640        False  \n",
       "\n",
       "[111 rows x 5 columns]"
      ]
     },
     "execution_count": 72,
     "metadata": {},
     "output_type": "execute_result"
    }
   ],
   "source": [
    "labeled_df[~labeled_df.is_accurate][[\n",
    "    'text',\n",
    "    'url',\n",
    "    'is_story',\n",
    "    'prediction',\n",
    "    'is_accurate',\n",
    "]]"
   ]
  },
  {
   "cell_type": "markdown",
   "id": "e6ab4c98-2455-4f6f-b97f-7317fe5d1948",
   "metadata": {},
   "source": [
    "Test an unsupervised sample of links"
   ]
  },
  {
   "cell_type": "code",
   "execution_count": 73,
   "id": "c4491f4f-8308-4793-8ebe-1eab879cde49",
   "metadata": {},
   "outputs": [],
   "source": [
    "sample_df = pd.read_csv(input_path / \"sample.csv\")"
   ]
  },
  {
   "cell_type": "code",
   "execution_count": 74,
   "id": "0030bacf-9a75-4a5b-97bf-3609907563db",
   "metadata": {},
   "outputs": [],
   "source": [
    "sample_df['prediction'] = sample_df.apply(lambda x: label(x['url'], x['text']), axis=1)"
   ]
  },
  {
   "cell_type": "code",
   "execution_count": 75,
   "id": "134fc5a7-1e1f-440c-875f-535ff9a7ccc9",
   "metadata": {},
   "outputs": [],
   "source": [
    "sample_df.to_csv(input_path / \"sample.csv\", index=False)"
   ]
  }
 ],
 "metadata": {
  "kernelspec": {
   "display_name": "Python 3 (ipykernel)",
   "language": "python",
   "name": "python3"
  },
  "language_info": {
   "codemirror_mode": {
    "name": "ipython",
    "version": 3
   },
   "file_extension": ".py",
   "mimetype": "text/x-python",
   "name": "python",
   "nbconvert_exporter": "python",
   "pygments_lexer": "ipython3",
   "version": "3.9.2"
  }
 },
 "nbformat": 4,
 "nbformat_minor": 5
}
