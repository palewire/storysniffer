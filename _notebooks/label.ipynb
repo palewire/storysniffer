{
 "cells": [
  {
   "cell_type": "markdown",
   "id": "8952474a-ff2e-48a3-ada9-9120c147e01e",
   "metadata": {},
   "source": [
    "# Label\n",
    "\n",
    "Run the models against fresh data to see how it goes."
   ]
  },
  {
   "cell_type": "code",
   "execution_count": 2,
   "id": "c96a8de4-cf00-407a-a57b-73f305a99a5a",
   "metadata": {},
   "outputs": [],
   "source": [
    "import pathlib\n",
    "from urllib.parse import urlparse"
   ]
  },
  {
   "cell_type": "code",
   "execution_count": 3,
   "id": "3dada257-4593-40e7-afef-773c70e202a6",
   "metadata": {},
   "outputs": [],
   "source": [
    "import dill\n",
    "import tldextract\n",
    "import numpy as np\n",
    "import pandas as pd"
   ]
  },
  {
   "cell_type": "code",
   "execution_count": 4,
   "id": "8db0094d-e529-42fb-b03e-338cea494b13",
   "metadata": {},
   "outputs": [],
   "source": [
    "input_path = pathlib.Path(\"\") / \"input\""
   ]
  },
  {
   "cell_type": "code",
   "execution_count": 5,
   "id": "cf0a4311-65e8-4fde-97bb-6b51e458c1aa",
   "metadata": {},
   "outputs": [],
   "source": [
    "output_path = pathlib.Path(\"\") / \"output\""
   ]
  },
  {
   "cell_type": "code",
   "execution_count": 6,
   "id": "5bb46c5e-a788-45a1-bbf5-dd6fa2fa2069",
   "metadata": {},
   "outputs": [],
   "source": [
    "path_and_text_model = dill.load(open(output_path / \"path-and-text-model.pickle\", \"rb\"))"
   ]
  },
  {
   "cell_type": "code",
   "execution_count": 18,
   "id": "d53df7f6-b6bf-4ee8-a0ca-18cb7dac48dd",
   "metadata": {},
   "outputs": [],
   "source": [
    "path_only_model = dill.load(open(output_path / \"path-only-model.pickle\", \"rb\"))"
   ]
  },
  {
   "cell_type": "code",
   "execution_count": 7,
   "id": "bcc2e0ae-ff00-4f43-ada6-dec8b5c710ea",
   "metadata": {},
   "outputs": [],
   "source": [
    "labeled_df = pd.read_csv(input_path / \"labeled.csv\", dtype={\"is_story\": int})"
   ]
  },
  {
   "cell_type": "code",
   "execution_count": 8,
   "id": "4a059b9f-ea09-4d54-b6e8-e6011d25719e",
   "metadata": {},
   "outputs": [],
   "source": [
    "DOMAIN_BLACKLIST = (\n",
    "    \"google\",\n",
    "    \"twitter\",\n",
    "    \"facebook\",\n",
    "    \"doubleclick\",\n",
    "    \"instagram\",\n",
    "    \"pinterest\",\n",
    "    \"legacy\",\n",
    ")"
   ]
  },
  {
   "cell_type": "code",
   "execution_count": 9,
   "id": "3ae5c6df-5ffc-41b9-adc0-635849afcb69",
   "metadata": {},
   "outputs": [],
   "source": [
    "SUBDOMAIN_BLACKLIST = (\n",
    "    \"careers\",\n",
    "    \"mail\",\n",
    "    \"account\",\n",
    ")"
   ]
  },
  {
   "cell_type": "code",
   "execution_count": 25,
   "id": "dd98c059-72da-4097-859a-b6b3aed1d172",
   "metadata": {},
   "outputs": [],
   "source": [
    "def label(url, text=None):\n",
    "    # Pull out the data we need\n",
    "    path = urlparse(url).path\n",
    "    tld = tldextract.extract(url)\n",
    "\n",
    "    # Drop anything we're certain isn't a story\n",
    "    if tld.domain in DOMAIN_BLACKLIST:\n",
    "        return False\n",
    "    elif tld.subdomain in SUBDOMAIN_BLACKLIST:\n",
    "        return False\n",
    "\n",
    "    # Pick which model we're using, based on the input\n",
    "    if text:\n",
    "        model = path_and_text_model\n",
    "    else:\n",
    "        model = path_only_model\n",
    "\n",
    "    # Run a prediction\n",
    "    df = pd.DataFrame([dict(path=path, text=text)])\n",
    "    prediction = model.predict(df)\n",
    "        \n",
    "    # Return the result\n",
    "    return prediction[0] == 1"
   ]
  },
  {
   "cell_type": "code",
   "execution_count": 26,
   "id": "f811a9ee-0191-4518-a273-fc2441587507",
   "metadata": {},
   "outputs": [
    {
     "data": {
      "text/plain": [
       "False"
      ]
     },
     "execution_count": 26,
     "metadata": {},
     "output_type": "execute_result"
    }
   ],
   "source": [
    "label(\"http://www.latimes.com/whatever.html\", \"This is not a headline\")"
   ]
  },
  {
   "cell_type": "code",
   "execution_count": 27,
   "id": "d0e1a1d0-eff3-44a0-b857-2b5540f38965",
   "metadata": {},
   "outputs": [
    {
     "data": {
      "text/plain": [
       "True"
      ]
     },
     "execution_count": 27,
     "metadata": {},
     "output_type": "execute_result"
    }
   ],
   "source": [
    "label(\"http://www.latimes.com/2019/04/unhcr-corruption-refugee-resettlement/\", \"This is a headline\")"
   ]
  },
  {
   "cell_type": "code",
   "execution_count": 28,
   "id": "0a6afad1-ac7f-4600-ba51-02dba7bfd073",
   "metadata": {},
   "outputs": [
    {
     "data": {
      "text/plain": [
       "False"
      ]
     },
     "execution_count": 28,
     "metadata": {},
     "output_type": "execute_result"
    }
   ],
   "source": [
    "label(\"http://www.latimes.com/whatever.html\")"
   ]
  },
  {
   "cell_type": "code",
   "execution_count": 29,
   "id": "1bc71b6c-4735-4aa0-9bef-fd2093ac8ef2",
   "metadata": {},
   "outputs": [
    {
     "data": {
      "text/plain": [
       "True"
      ]
     },
     "execution_count": 29,
     "metadata": {},
     "output_type": "execute_result"
    }
   ],
   "source": [
    "label(\"http://www.latimes.com/2019/04/unhcr-corruption-refugee-resettlement/\")"
   ]
  }
 ],
 "metadata": {
  "kernelspec": {
   "display_name": "Python 3 (ipykernel)",
   "language": "python",
   "name": "python3"
  },
  "language_info": {
   "codemirror_mode": {
    "name": "ipython",
    "version": 3
   },
   "file_extension": ".py",
   "mimetype": "text/x-python",
   "name": "python",
   "nbconvert_exporter": "python",
   "pygments_lexer": "ipython3",
   "version": "3.9.2"
  }
 },
 "nbformat": 4,
 "nbformat_minor": 5
}
